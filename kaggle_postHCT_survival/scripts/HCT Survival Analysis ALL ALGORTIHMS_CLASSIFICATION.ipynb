{
 "cells": [
  {
   "cell_type": "code",
   "execution_count": 20,
   "id": "d8c796a9",
   "metadata": {},
   "outputs": [],
   "source": [
    "# import packages\n",
    "# pandas, plotting, other basics \n",
    "import pandas as pd\n",
    "import seaborn as sns\n",
    "import matplotlib.pyplot as plt\n",
    "import numpy as np\n",
    "\n",
    "# metrics and other useful tools \n",
    "from sklearn.preprocessing import StandardScaler, PolynomialFeatures\n",
    "from sklearn.metrics import mean_squared_error, mean_absolute_error, r2_score\n",
    "from sklearn.metrics import accuracy_score, precision_score, recall_score, f1_score, roc_auc_score, confusion_matrix, make_scorer\n",
    "\n",
    "# Algos\n",
    "from sklearn.linear_model import LogisticRegression, RidgeClassifier, PassiveAggressiveClassifier, Perceptron\n",
    "from sklearn.neighbors import KNeighborsClassifier\n",
    "from sklearn.svm import SVC\n",
    "from sklearn.naive_bayes import GaussianNB\n",
    "from sklearn.tree import DecisionTreeClassifier\n",
    "#from sklearn.discriminant_analysis import LinearDiscriminantAnalysis, QuadraticDiscriminantAnalysis\n",
    "from sklearn.ensemble import RandomForestClassifier, GradientBoostingClassifier, AdaBoostClassifier, BaggingClassifier, ExtraTreesClassifier\n",
    "#from lightgbm import LGBMClassifier\n",
    "#from xgboost import XGBClassifier\n",
    "#from catboost import CatBoostClassifier\n",
    "\n",
    "# Grid search model selection \n",
    "from sklearn.model_selection import GridSearchCV\n",
    "\n",
    "\n",
    "# deep net as last\n",
    "from tensorflow.keras.models import Sequential\n",
    "from tensorflow.keras.layers import Dense, Dropout\n",
    "from tensorflow.keras.wrappers.scikit_learn import KerasClassifier\n",
    "\n",
    "\n",
    "\n",
    "\n",
    "\n",
    "# KNN, SVM, Naive Bayes, Decision tree, Random forest, gradient boosting GBC\n",
    "# XGBOOST, catboost, adaboost, Bagging Classifier, Extra Trees, LDA, QDA, passive agfessive classifier, perceptiron, \n",
    "\n"
   ]
  },
  {
   "cell_type": "code",
   "execution_count": 21,
   "id": "ceff259c",
   "metadata": {},
   "outputs": [],
   "source": [
    "# read in train and test data\n",
    "train_df = pd.read_csv(r\"E:\\github_repos\\PRIVATE\\Private_Active_Projects\\post_HCT_survival_analysis\\data\\train.csv\")\n",
    "test_df = pd.read_csv(r\"E:\\github_repos\\PRIVATE\\Private_Active_Projects\\post_HCT_survival_analysis\\data\\test.csv\")"
   ]
  },
  {
   "cell_type": "code",
   "execution_count": 22,
   "id": "27e4e7f8",
   "metadata": {},
   "outputs": [],
   "source": [
    "# lets drop any columns from train not in test, easier for now\n",
    "main_ivs = ['efs','efs_time']  \n",
    "\n",
    "columns_to_drop_from_train = [col for col in train_df.columns if col not in test_df.columns and col not in main_ivs]\n",
    "\n",
    "train_df = train_df.drop(columns_to_drop_from_train)"
   ]
  },
  {
   "cell_type": "code",
   "execution_count": 23,
   "id": "987f6f6b",
   "metadata": {},
   "outputs": [],
   "source": [
    "# Okay, lets set up a way to split numeric from categorical \n",
    "numeric_columns = train_df.select_dtypes(include=['int64', 'float64']).columns\n",
    "categorical_columns = train_df.select_dtypes(include=['object', 'category']).columns"
   ]
  },
  {
   "cell_type": "code",
   "execution_count": 24,
   "id": "f6ca6552",
   "metadata": {
    "scrolled": true
   },
   "outputs": [],
   "source": [
    "# Lets first assess missing for numeric dat\n",
    "#print(train_df[numeric_columns].isnull().mean() * 100)\n",
    "# Highest is 24%, I am fine i think with imputing that with the mean"
   ]
  },
  {
   "cell_type": "code",
   "execution_count": 25,
   "id": "4dfd9233",
   "metadata": {
    "scrolled": true
   },
   "outputs": [],
   "source": [
    "# Lets now assess missing for categorical dat\n",
    "#print(train_df[categorical_columns].isnull().mean() * 100)\n",
    "# So some decent missing data, but probably valueable data, I think we should go ahead and set the NAN as a missing cateogory"
   ]
  },
  {
   "cell_type": "code",
   "execution_count": 26,
   "id": "689b0081",
   "metadata": {},
   "outputs": [],
   "source": [
    "# before preprocessing, sort into x and y\n",
    "columns_to_drop = ['efs','efs_time']\n",
    "\n",
    "# Dynamically drop columns if they exist\n",
    "x_train = train_df.drop(columns=[col for col in columns_to_drop if col in train_df.columns])\n",
    "y_train = train_df['efs']\n",
    "\n",
    "x_test = test_df.drop(columns=[col for col in columns_to_drop if col in test_df.columns])"
   ]
  },
  {
   "cell_type": "code",
   "execution_count": 27,
   "id": "bedc407d",
   "metadata": {},
   "outputs": [],
   "source": [
    "# lets split the x_train into cat and numeric values\n",
    "numeric_train_cols = x_train.select_dtypes(include=['int64', 'float64']).columns\n",
    "categorical_train_cols = x_train.select_dtypes(include=['object', 'category']).columns"
   ]
  },
  {
   "cell_type": "code",
   "execution_count": 28,
   "id": "2a560e7d",
   "metadata": {},
   "outputs": [],
   "source": [
    "# start some data preprocssing \n",
    "# Will apply same mean impute based on train, apply to test\n",
    "for col in numeric_train_cols:\n",
    "    mean_value = x_train[col].mean()  # Calculate mean from train_df\n",
    "    x_train[col] = x_train[col].fillna(mean_value)  # Impute in train_df\n",
    "    x_test[col] = x_test[col].fillna(mean_value)  # Impute in test_df with the same mean"
   ]
  },
  {
   "cell_type": "code",
   "execution_count": 29,
   "id": "7b0ff954",
   "metadata": {},
   "outputs": [],
   "source": [
    "# next, standardize numeric values\n",
    "scaler = StandardScaler()\n",
    "x_train[numeric_train_cols] = scaler.fit_transform(x_train[numeric_train_cols])\n",
    "x_test[numeric_train_cols] = scaler.transform(x_test[numeric_train_cols])"
   ]
  },
  {
   "cell_type": "code",
   "execution_count": 30,
   "id": "a6f0df8e",
   "metadata": {
    "scrolled": true
   },
   "outputs": [],
   "source": [
    "# for prepocessing of categorical\n",
    "# Need to fix two variables whoses names and values will get messy after scaling and dummy varibales\n",
    "x_train['tbi_status'] = x_train['tbi_status'].replace({'TBI +- Other, >cGy': 'TBI_Other_GreatercGY'\n",
    "                                             , 'TBI +- Other, <=cGy': 'TBI_Other_LesserEqualcGY'})\n",
    "\n",
    "x_train['cmv_status'] = x_train['cmv_status'].replace({'+/+': 'pospos'\n",
    "                                                     , '-/+': 'negpos'\n",
    "                                                      , '+/-': 'posneg'\n",
    "                                                      , '-/-': 'negneg'})\n"
   ]
  },
  {
   "cell_type": "code",
   "execution_count": 31,
   "id": "7517fdf9",
   "metadata": {
    "scrolled": false
   },
   "outputs": [],
   "source": [
    "# Now lets replace values with standardized values removing white space, etc\n",
    "for col in categorical_train_cols:\n",
    "    x_train[col] = x_train[col].str.replace(r'[^a-zA-Z0-9]', '_', regex=True)\n",
    "    x_test[col] = x_test[col].str.replace(r'[^a-zA-Z0-9]', '_', regex=True)   "
   ]
  },
  {
   "cell_type": "code",
   "execution_count": 32,
   "id": "f0f1ebf2",
   "metadata": {},
   "outputs": [],
   "source": [
    "# For categorical, lets replace all missing with a \"missing\" value \n",
    "x_train[categorical_train_cols] = x_train[categorical_train_cols].fillna('Missing_value') \n",
    "x_test[categorical_train_cols] = x_test[categorical_train_cols].fillna('Missing_value') "
   ]
  },
  {
   "cell_type": "code",
   "execution_count": 33,
   "id": "44f37cae",
   "metadata": {},
   "outputs": [],
   "source": [
    "# last, lets dummy code the categorical variables and build up the final train and test data\\\n",
    "# first concatenate train and test DataFrames for consistent dummy encoding\n",
    "combined = pd.concat([x_train, x_test], axis=0)\n",
    "\n",
    "# Perform one-hot encoding\n",
    "combined_encoded = pd.get_dummies(combined, columns=categorical_train_cols, drop_first=True)\n",
    "\n",
    "# Split back into train and test sets\n",
    "x_train_encoded = combined_encoded.iloc[:len(x_train), :]\n",
    "x_test_encoded = combined_encoded.iloc[len(x_train):, :]"
   ]
  },
  {
   "cell_type": "code",
   "execution_count": 34,
   "id": "6e127c4f",
   "metadata": {},
   "outputs": [],
   "source": [
    "# lets define a funciton for evaluation a classificaiton function \n",
    "def classification_model_evaluation(y_true, y_pred, y_pred_proba=None):\n",
    "    # Metrics\n",
    "    accuracy = accuracy_score(y_true, y_pred)\n",
    "    precision = precision_score(y_true, y_pred, average='binary')\n",
    "    recall = recall_score(y_true, y_pred, average='binary')\n",
    "    f1 = f1_score(y_true, y_pred, average='binary')\n",
    "    \n",
    "    # Print results\n",
    "    print(f\"Accuracy: {accuracy:.3f}\") # proportion of correct predictions, but imbalanced datasets can be tricky here\n",
    "    print(f\"Precision: {precision:.3f}\") # proportion of TP / TP + FP, how many predicted positives were actually positive\n",
    "                                            #how precise, high precision means few false positives, when postive usually correct\n",
    "                                            # of all predicted scores, shows how many were actually positives\n",
    "    print(f\"Recall: {recall:.3f}\") # proportion of TP / TP + FN, how many were correctly predicted\n",
    "                                        # how sensative, reflects ability to detect positive cases. Catches most positive cases\n",
    "                                        # of all actual positives, how many were correctly predicted \n",
    "    print(f\"F1-Score: {f1:.3f}\") # balance between precision and recall\n",
    "    \n",
    "    # Confusion Matrix\n",
    "    print(\"\\nConfusion Matrix:\")\n",
    "    print(confusion_matrix(y_true, y_pred))"
   ]
  },
  {
   "cell_type": "code",
   "execution_count": 35,
   "id": "86bf085d",
   "metadata": {},
   "outputs": [],
   "source": [
    "#############################################################\n",
    "## New section: Lets start developing different algorithms ##\n",
    "#############################################################"
   ]
  },
  {
   "cell_type": "code",
   "execution_count": 103,
   "id": "f7b53f58",
   "metadata": {},
   "outputs": [],
   "source": [
    "#############################################################\n",
    "## Logistic regression  ##\n",
    "#############################################################"
   ]
  },
  {
   "cell_type": "code",
   "execution_count": 104,
   "id": "aff0cc22",
   "metadata": {},
   "outputs": [
    {
     "data": {
      "text/html": [
       "<style>#sk-container-id-5 {color: black;background-color: white;}#sk-container-id-5 pre{padding: 0;}#sk-container-id-5 div.sk-toggleable {background-color: white;}#sk-container-id-5 label.sk-toggleable__label {cursor: pointer;display: block;width: 100%;margin-bottom: 0;padding: 0.3em;box-sizing: border-box;text-align: center;}#sk-container-id-5 label.sk-toggleable__label-arrow:before {content: \"▸\";float: left;margin-right: 0.25em;color: #696969;}#sk-container-id-5 label.sk-toggleable__label-arrow:hover:before {color: black;}#sk-container-id-5 div.sk-estimator:hover label.sk-toggleable__label-arrow:before {color: black;}#sk-container-id-5 div.sk-toggleable__content {max-height: 0;max-width: 0;overflow: hidden;text-align: left;background-color: #f0f8ff;}#sk-container-id-5 div.sk-toggleable__content pre {margin: 0.2em;color: black;border-radius: 0.25em;background-color: #f0f8ff;}#sk-container-id-5 input.sk-toggleable__control:checked~div.sk-toggleable__content {max-height: 200px;max-width: 100%;overflow: auto;}#sk-container-id-5 input.sk-toggleable__control:checked~label.sk-toggleable__label-arrow:before {content: \"▾\";}#sk-container-id-5 div.sk-estimator input.sk-toggleable__control:checked~label.sk-toggleable__label {background-color: #d4ebff;}#sk-container-id-5 div.sk-label input.sk-toggleable__control:checked~label.sk-toggleable__label {background-color: #d4ebff;}#sk-container-id-5 input.sk-hidden--visually {border: 0;clip: rect(1px 1px 1px 1px);clip: rect(1px, 1px, 1px, 1px);height: 1px;margin: -1px;overflow: hidden;padding: 0;position: absolute;width: 1px;}#sk-container-id-5 div.sk-estimator {font-family: monospace;background-color: #f0f8ff;border: 1px dotted black;border-radius: 0.25em;box-sizing: border-box;margin-bottom: 0.5em;}#sk-container-id-5 div.sk-estimator:hover {background-color: #d4ebff;}#sk-container-id-5 div.sk-parallel-item::after {content: \"\";width: 100%;border-bottom: 1px solid gray;flex-grow: 1;}#sk-container-id-5 div.sk-label:hover label.sk-toggleable__label {background-color: #d4ebff;}#sk-container-id-5 div.sk-serial::before {content: \"\";position: absolute;border-left: 1px solid gray;box-sizing: border-box;top: 0;bottom: 0;left: 50%;z-index: 0;}#sk-container-id-5 div.sk-serial {display: flex;flex-direction: column;align-items: center;background-color: white;padding-right: 0.2em;padding-left: 0.2em;position: relative;}#sk-container-id-5 div.sk-item {position: relative;z-index: 1;}#sk-container-id-5 div.sk-parallel {display: flex;align-items: stretch;justify-content: center;background-color: white;position: relative;}#sk-container-id-5 div.sk-item::before, #sk-container-id-5 div.sk-parallel-item::before {content: \"\";position: absolute;border-left: 1px solid gray;box-sizing: border-box;top: 0;bottom: 0;left: 50%;z-index: -1;}#sk-container-id-5 div.sk-parallel-item {display: flex;flex-direction: column;z-index: 1;position: relative;background-color: white;}#sk-container-id-5 div.sk-parallel-item:first-child::after {align-self: flex-end;width: 50%;}#sk-container-id-5 div.sk-parallel-item:last-child::after {align-self: flex-start;width: 50%;}#sk-container-id-5 div.sk-parallel-item:only-child::after {width: 0;}#sk-container-id-5 div.sk-dashed-wrapped {border: 1px dashed gray;margin: 0 0.4em 0.5em 0.4em;box-sizing: border-box;padding-bottom: 0.4em;background-color: white;}#sk-container-id-5 div.sk-label label {font-family: monospace;font-weight: bold;display: inline-block;line-height: 1.2em;}#sk-container-id-5 div.sk-label-container {text-align: center;}#sk-container-id-5 div.sk-container {/* jupyter's `normalize.less` sets `[hidden] { display: none; }` but bootstrap.min.css set `[hidden] { display: none !important; }` so we also need the `!important` here to be able to override the default hidden behavior on the sphinx rendered scikit-learn.org. See: https://github.com/scikit-learn/scikit-learn/issues/21755 */display: inline-block !important;position: relative;}#sk-container-id-5 div.sk-text-repr-fallback {display: none;}</style><div id=\"sk-container-id-5\" class=\"sk-top-container\"><div class=\"sk-text-repr-fallback\"><pre>LogisticRegression(max_iter=500)</pre><b>In a Jupyter environment, please rerun this cell to show the HTML representation or trust the notebook. <br />On GitHub, the HTML representation is unable to render, please try loading this page with nbviewer.org.</b></div><div class=\"sk-container\" hidden><div class=\"sk-item\"><div class=\"sk-estimator sk-toggleable\"><input class=\"sk-toggleable__control sk-hidden--visually\" id=\"sk-estimator-id-5\" type=\"checkbox\" checked><label for=\"sk-estimator-id-5\" class=\"sk-toggleable__label sk-toggleable__label-arrow\">LogisticRegression</label><div class=\"sk-toggleable__content\"><pre>LogisticRegression(max_iter=500)</pre></div></div></div></div></div>"
      ],
      "text/plain": [
       "LogisticRegression(max_iter=500)"
      ]
     },
     "execution_count": 104,
     "metadata": {},
     "output_type": "execute_result"
    }
   ],
   "source": [
    "# set inital regression model \n",
    "logr_model = LogisticRegression(max_iter=500) #default is 100\n",
    "\n",
    "# fit model \n",
    "logr_model.fit(x_train_encoded, y_train)"
   ]
  },
  {
   "cell_type": "code",
   "execution_count": 105,
   "id": "7cc2ba6a",
   "metadata": {},
   "outputs": [
    {
     "name": "stdout",
     "output_type": "stream",
     "text": [
      "Accuracy: 0.690\n",
      "Precision: 0.689\n",
      "Recall: 0.774\n",
      "F1-Score: 0.729\n",
      "\n",
      "Confusion Matrix:\n",
      "[[ 7852  5416]\n",
      " [ 3516 12016]]\n"
     ]
    }
   ],
   "source": [
    "# evaluate fit\n",
    "y_logr_pred_train = logr_model.predict(x_train_encoded)\n",
    "classification_model_evaluation(y_train, y_logr_pred_train)\n",
    "\n",
    "# NOTE THIS GOT A .599 score in the kaggle\n",
    "# So .69 accuracy to .599 score"
   ]
  },
  {
   "cell_type": "code",
   "execution_count": 106,
   "id": "7f1963a8",
   "metadata": {},
   "outputs": [],
   "source": [
    "#############################################################\n",
    "## Ridge Regression Classification  ##\n",
    "#############################################################"
   ]
  },
  {
   "cell_type": "code",
   "execution_count": 107,
   "id": "98fd0c7e",
   "metadata": {},
   "outputs": [],
   "source": [
    "# Step 1: Define hyperparameter grid\n",
    "alpha_values = [0.01, 0.1, 1, 10, 100]  # Regularization strength\n",
    "solver_values = ['auto', 'svd', 'cholesky', 'lsqr', 'sparse_cg', 'sag', 'saga']  # Solvers for optimization\n",
    "\n",
    "# Step 2: Create the parameter grid\n",
    "ridge_param_grid = {\n",
    "    'alpha': alpha_values,\n",
    "    'solver': solver_values\n",
    "}\n",
    "\n",
    "# Step 3: Set up Ridge Classifier\n",
    "ridge_classifier = RidgeClassifier()\n",
    "\n",
    "# Step 4: Build the grid search model\n",
    "ridge_grid_search = GridSearchCV(\n",
    "    estimator=ridge_classifier,\n",
    "    param_grid=ridge_param_grid,\n",
    "    cv=5,  # 5-fold cross-validation\n",
    "    scoring=make_scorer(f1_score, average='binary'),  # Use F1-score for evaluation\n",
    "    n_jobs=-3,  # Use all available cores minus 2\n",
    "    verbose=1  # Output progress\n",
    ")"
   ]
  },
  {
   "cell_type": "code",
   "execution_count": 108,
   "id": "3f5e1861",
   "metadata": {},
   "outputs": [
    {
     "name": "stdout",
     "output_type": "stream",
     "text": [
      "Fitting 5 folds for each of 35 candidates, totalling 175 fits\n"
     ]
    },
    {
     "data": {
      "text/html": [
       "<style>#sk-container-id-6 {color: black;background-color: white;}#sk-container-id-6 pre{padding: 0;}#sk-container-id-6 div.sk-toggleable {background-color: white;}#sk-container-id-6 label.sk-toggleable__label {cursor: pointer;display: block;width: 100%;margin-bottom: 0;padding: 0.3em;box-sizing: border-box;text-align: center;}#sk-container-id-6 label.sk-toggleable__label-arrow:before {content: \"▸\";float: left;margin-right: 0.25em;color: #696969;}#sk-container-id-6 label.sk-toggleable__label-arrow:hover:before {color: black;}#sk-container-id-6 div.sk-estimator:hover label.sk-toggleable__label-arrow:before {color: black;}#sk-container-id-6 div.sk-toggleable__content {max-height: 0;max-width: 0;overflow: hidden;text-align: left;background-color: #f0f8ff;}#sk-container-id-6 div.sk-toggleable__content pre {margin: 0.2em;color: black;border-radius: 0.25em;background-color: #f0f8ff;}#sk-container-id-6 input.sk-toggleable__control:checked~div.sk-toggleable__content {max-height: 200px;max-width: 100%;overflow: auto;}#sk-container-id-6 input.sk-toggleable__control:checked~label.sk-toggleable__label-arrow:before {content: \"▾\";}#sk-container-id-6 div.sk-estimator input.sk-toggleable__control:checked~label.sk-toggleable__label {background-color: #d4ebff;}#sk-container-id-6 div.sk-label input.sk-toggleable__control:checked~label.sk-toggleable__label {background-color: #d4ebff;}#sk-container-id-6 input.sk-hidden--visually {border: 0;clip: rect(1px 1px 1px 1px);clip: rect(1px, 1px, 1px, 1px);height: 1px;margin: -1px;overflow: hidden;padding: 0;position: absolute;width: 1px;}#sk-container-id-6 div.sk-estimator {font-family: monospace;background-color: #f0f8ff;border: 1px dotted black;border-radius: 0.25em;box-sizing: border-box;margin-bottom: 0.5em;}#sk-container-id-6 div.sk-estimator:hover {background-color: #d4ebff;}#sk-container-id-6 div.sk-parallel-item::after {content: \"\";width: 100%;border-bottom: 1px solid gray;flex-grow: 1;}#sk-container-id-6 div.sk-label:hover label.sk-toggleable__label {background-color: #d4ebff;}#sk-container-id-6 div.sk-serial::before {content: \"\";position: absolute;border-left: 1px solid gray;box-sizing: border-box;top: 0;bottom: 0;left: 50%;z-index: 0;}#sk-container-id-6 div.sk-serial {display: flex;flex-direction: column;align-items: center;background-color: white;padding-right: 0.2em;padding-left: 0.2em;position: relative;}#sk-container-id-6 div.sk-item {position: relative;z-index: 1;}#sk-container-id-6 div.sk-parallel {display: flex;align-items: stretch;justify-content: center;background-color: white;position: relative;}#sk-container-id-6 div.sk-item::before, #sk-container-id-6 div.sk-parallel-item::before {content: \"\";position: absolute;border-left: 1px solid gray;box-sizing: border-box;top: 0;bottom: 0;left: 50%;z-index: -1;}#sk-container-id-6 div.sk-parallel-item {display: flex;flex-direction: column;z-index: 1;position: relative;background-color: white;}#sk-container-id-6 div.sk-parallel-item:first-child::after {align-self: flex-end;width: 50%;}#sk-container-id-6 div.sk-parallel-item:last-child::after {align-self: flex-start;width: 50%;}#sk-container-id-6 div.sk-parallel-item:only-child::after {width: 0;}#sk-container-id-6 div.sk-dashed-wrapped {border: 1px dashed gray;margin: 0 0.4em 0.5em 0.4em;box-sizing: border-box;padding-bottom: 0.4em;background-color: white;}#sk-container-id-6 div.sk-label label {font-family: monospace;font-weight: bold;display: inline-block;line-height: 1.2em;}#sk-container-id-6 div.sk-label-container {text-align: center;}#sk-container-id-6 div.sk-container {/* jupyter's `normalize.less` sets `[hidden] { display: none; }` but bootstrap.min.css set `[hidden] { display: none !important; }` so we also need the `!important` here to be able to override the default hidden behavior on the sphinx rendered scikit-learn.org. See: https://github.com/scikit-learn/scikit-learn/issues/21755 */display: inline-block !important;position: relative;}#sk-container-id-6 div.sk-text-repr-fallback {display: none;}</style><div id=\"sk-container-id-6\" class=\"sk-top-container\"><div class=\"sk-text-repr-fallback\"><pre>GridSearchCV(cv=5, estimator=RidgeClassifier(), n_jobs=-3,\n",
       "             param_grid={&#x27;alpha&#x27;: [0.01, 0.1, 1, 10, 100],\n",
       "                         &#x27;solver&#x27;: [&#x27;auto&#x27;, &#x27;svd&#x27;, &#x27;cholesky&#x27;, &#x27;lsqr&#x27;,\n",
       "                                    &#x27;sparse_cg&#x27;, &#x27;sag&#x27;, &#x27;saga&#x27;]},\n",
       "             scoring=make_scorer(f1_score, average=binary), verbose=1)</pre><b>In a Jupyter environment, please rerun this cell to show the HTML representation or trust the notebook. <br />On GitHub, the HTML representation is unable to render, please try loading this page with nbviewer.org.</b></div><div class=\"sk-container\" hidden><div class=\"sk-item sk-dashed-wrapped\"><div class=\"sk-label-container\"><div class=\"sk-label sk-toggleable\"><input class=\"sk-toggleable__control sk-hidden--visually\" id=\"sk-estimator-id-6\" type=\"checkbox\" ><label for=\"sk-estimator-id-6\" class=\"sk-toggleable__label sk-toggleable__label-arrow\">GridSearchCV</label><div class=\"sk-toggleable__content\"><pre>GridSearchCV(cv=5, estimator=RidgeClassifier(), n_jobs=-3,\n",
       "             param_grid={&#x27;alpha&#x27;: [0.01, 0.1, 1, 10, 100],\n",
       "                         &#x27;solver&#x27;: [&#x27;auto&#x27;, &#x27;svd&#x27;, &#x27;cholesky&#x27;, &#x27;lsqr&#x27;,\n",
       "                                    &#x27;sparse_cg&#x27;, &#x27;sag&#x27;, &#x27;saga&#x27;]},\n",
       "             scoring=make_scorer(f1_score, average=binary), verbose=1)</pre></div></div></div><div class=\"sk-parallel\"><div class=\"sk-parallel-item\"><div class=\"sk-item\"><div class=\"sk-label-container\"><div class=\"sk-label sk-toggleable\"><input class=\"sk-toggleable__control sk-hidden--visually\" id=\"sk-estimator-id-7\" type=\"checkbox\" ><label for=\"sk-estimator-id-7\" class=\"sk-toggleable__label sk-toggleable__label-arrow\">estimator: RidgeClassifier</label><div class=\"sk-toggleable__content\"><pre>RidgeClassifier()</pre></div></div></div><div class=\"sk-serial\"><div class=\"sk-item\"><div class=\"sk-estimator sk-toggleable\"><input class=\"sk-toggleable__control sk-hidden--visually\" id=\"sk-estimator-id-8\" type=\"checkbox\" ><label for=\"sk-estimator-id-8\" class=\"sk-toggleable__label sk-toggleable__label-arrow\">RidgeClassifier</label><div class=\"sk-toggleable__content\"><pre>RidgeClassifier()</pre></div></div></div></div></div></div></div></div></div></div>"
      ],
      "text/plain": [
       "GridSearchCV(cv=5, estimator=RidgeClassifier(), n_jobs=-3,\n",
       "             param_grid={'alpha': [0.01, 0.1, 1, 10, 100],\n",
       "                         'solver': ['auto', 'svd', 'cholesky', 'lsqr',\n",
       "                                    'sparse_cg', 'sag', 'saga']},\n",
       "             scoring=make_scorer(f1_score, average=binary), verbose=1)"
      ]
     },
     "execution_count": 108,
     "metadata": {},
     "output_type": "execute_result"
    }
   ],
   "source": [
    "# Step 5: Fit the grid search model\n",
    "ridge_grid_search.fit(x_train_encoded, y_train)"
   ]
  },
  {
   "cell_type": "code",
   "execution_count": 109,
   "id": "f61b9549",
   "metadata": {},
   "outputs": [
    {
     "data": {
      "image/png": "[encoded data removed]",
      "text/plain": [
       "<Figure size 1000x600 with 1 Axes>"
      ]
     },
     "metadata": {},
     "output_type": "display_data"
    }
   ],
   "source": [
    "# Extract results from GridSearchCV\n",
    "ridge_results = pd.DataFrame(ridge_grid_search.cv_results_)\n",
    "\n",
    "# Plot performance for different alpha values grouped by solver\n",
    "plt.figure(figsize=(10, 6))\n",
    "\n",
    "# Loop over solver values\n",
    "for solver in solver_values:  # solver: ['auto', 'svd', 'cholesky', 'lsqr', 'sparse_cg', 'sag', 'saga']\n",
    "    subset = ridge_results[ridge_results['param_solver'] == solver]\n",
    "    plt.plot(\n",
    "        subset['param_alpha'],  # Plot for different alpha values\n",
    "        subset['mean_test_score'],  # F1-Score values are stored in mean_test_score\n",
    "        marker='o',\n",
    "        label=f'Solver: {solver}'\n",
    "    )\n",
    "\n",
    "# Customize the plot\n",
    "plt.xscale('log')  # Log scale for alpha values, as alpha varies exponentially\n",
    "plt.xlabel('Alpha (Regularization Strength)')\n",
    "plt.ylabel('Mean Test Score (F1-Score)')\n",
    "plt.title('Ridge Classifier: Performance vs. Regularization Strength (Alpha)')\n",
    "plt.legend(title='Solver')\n",
    "plt.grid(True)\n",
    "plt.show()"
   ]
  },
  {
   "cell_type": "code",
   "execution_count": 110,
   "id": "fd47f8cc",
   "metadata": {},
   "outputs": [
    {
     "name": "stdout",
     "output_type": "stream",
     "text": [
      "Best alpha (regularization strength): 10\n",
      "Best solver: lsqr\n"
     ]
    }
   ],
   "source": [
    "# Get the best parameters for Ridge Classifier\n",
    "best_alpha_value = ridge_grid_search.best_params_['alpha']\n",
    "best_solver_value = ridge_grid_search.best_params_['solver']\n",
    "\n",
    "# Print the best values\n",
    "print(f\"Best alpha (regularization strength): {best_alpha_value}\")\n",
    "print(f\"Best solver: {best_solver_value}\")"
   ]
  },
  {
   "cell_type": "code",
   "execution_count": 111,
   "id": "5bd2c4c0",
   "metadata": {},
   "outputs": [
    {
     "data": {
      "text/html": [
       "<style>#sk-container-id-7 {color: black;background-color: white;}#sk-container-id-7 pre{padding: 0;}#sk-container-id-7 div.sk-toggleable {background-color: white;}#sk-container-id-7 label.sk-toggleable__label {cursor: pointer;display: block;width: 100%;margin-bottom: 0;padding: 0.3em;box-sizing: border-box;text-align: center;}#sk-container-id-7 label.sk-toggleable__label-arrow:before {content: \"▸\";float: left;margin-right: 0.25em;color: #696969;}#sk-container-id-7 label.sk-toggleable__label-arrow:hover:before {color: black;}#sk-container-id-7 div.sk-estimator:hover label.sk-toggleable__label-arrow:before {color: black;}#sk-container-id-7 div.sk-toggleable__content {max-height: 0;max-width: 0;overflow: hidden;text-align: left;background-color: #f0f8ff;}#sk-container-id-7 div.sk-toggleable__content pre {margin: 0.2em;color: black;border-radius: 0.25em;background-color: #f0f8ff;}#sk-container-id-7 input.sk-toggleable__control:checked~div.sk-toggleable__content {max-height: 200px;max-width: 100%;overflow: auto;}#sk-container-id-7 input.sk-toggleable__control:checked~label.sk-toggleable__label-arrow:before {content: \"▾\";}#sk-container-id-7 div.sk-estimator input.sk-toggleable__control:checked~label.sk-toggleable__label {background-color: #d4ebff;}#sk-container-id-7 div.sk-label input.sk-toggleable__control:checked~label.sk-toggleable__label {background-color: #d4ebff;}#sk-container-id-7 input.sk-hidden--visually {border: 0;clip: rect(1px 1px 1px 1px);clip: rect(1px, 1px, 1px, 1px);height: 1px;margin: -1px;overflow: hidden;padding: 0;position: absolute;width: 1px;}#sk-container-id-7 div.sk-estimator {font-family: monospace;background-color: #f0f8ff;border: 1px dotted black;border-radius: 0.25em;box-sizing: border-box;margin-bottom: 0.5em;}#sk-container-id-7 div.sk-estimator:hover {background-color: #d4ebff;}#sk-container-id-7 div.sk-parallel-item::after {content: \"\";width: 100%;border-bottom: 1px solid gray;flex-grow: 1;}#sk-container-id-7 div.sk-label:hover label.sk-toggleable__label {background-color: #d4ebff;}#sk-container-id-7 div.sk-serial::before {content: \"\";position: absolute;border-left: 1px solid gray;box-sizing: border-box;top: 0;bottom: 0;left: 50%;z-index: 0;}#sk-container-id-7 div.sk-serial {display: flex;flex-direction: column;align-items: center;background-color: white;padding-right: 0.2em;padding-left: 0.2em;position: relative;}#sk-container-id-7 div.sk-item {position: relative;z-index: 1;}#sk-container-id-7 div.sk-parallel {display: flex;align-items: stretch;justify-content: center;background-color: white;position: relative;}#sk-container-id-7 div.sk-item::before, #sk-container-id-7 div.sk-parallel-item::before {content: \"\";position: absolute;border-left: 1px solid gray;box-sizing: border-box;top: 0;bottom: 0;left: 50%;z-index: -1;}#sk-container-id-7 div.sk-parallel-item {display: flex;flex-direction: column;z-index: 1;position: relative;background-color: white;}#sk-container-id-7 div.sk-parallel-item:first-child::after {align-self: flex-end;width: 50%;}#sk-container-id-7 div.sk-parallel-item:last-child::after {align-self: flex-start;width: 50%;}#sk-container-id-7 div.sk-parallel-item:only-child::after {width: 0;}#sk-container-id-7 div.sk-dashed-wrapped {border: 1px dashed gray;margin: 0 0.4em 0.5em 0.4em;box-sizing: border-box;padding-bottom: 0.4em;background-color: white;}#sk-container-id-7 div.sk-label label {font-family: monospace;font-weight: bold;display: inline-block;line-height: 1.2em;}#sk-container-id-7 div.sk-label-container {text-align: center;}#sk-container-id-7 div.sk-container {/* jupyter's `normalize.less` sets `[hidden] { display: none; }` but bootstrap.min.css set `[hidden] { display: none !important; }` so we also need the `!important` here to be able to override the default hidden behavior on the sphinx rendered scikit-learn.org. See: https://github.com/scikit-learn/scikit-learn/issues/21755 */display: inline-block !important;position: relative;}#sk-container-id-7 div.sk-text-repr-fallback {display: none;}</style><div id=\"sk-container-id-7\" class=\"sk-top-container\"><div class=\"sk-text-repr-fallback\"><pre>RidgeClassifier(alpha=10, solver=&#x27;lsqr&#x27;)</pre><b>In a Jupyter environment, please rerun this cell to show the HTML representation or trust the notebook. <br />On GitHub, the HTML representation is unable to render, please try loading this page with nbviewer.org.</b></div><div class=\"sk-container\" hidden><div class=\"sk-item\"><div class=\"sk-estimator sk-toggleable\"><input class=\"sk-toggleable__control sk-hidden--visually\" id=\"sk-estimator-id-9\" type=\"checkbox\" checked><label for=\"sk-estimator-id-9\" class=\"sk-toggleable__label sk-toggleable__label-arrow\">RidgeClassifier</label><div class=\"sk-toggleable__content\"><pre>RidgeClassifier(alpha=10, solver=&#x27;lsqr&#x27;)</pre></div></div></div></div></div>"
      ],
      "text/plain": [
       "RidgeClassifier(alpha=10, solver='lsqr')"
      ]
     },
     "execution_count": 111,
     "metadata": {},
     "output_type": "execute_result"
    }
   ],
   "source": [
    "# Fit final RidgeClassifier model using the best parameters found\n",
    "best_ridge_classifier = RidgeClassifier(\n",
    "    alpha=best_alpha_value,  # best alpha from grid search\n",
    "    solver=best_solver_value  # best solver from grid search\n",
    ")\n",
    "\n",
    "best_ridge_classifier.fit(x_train_encoded, y_train)"
   ]
  },
  {
   "cell_type": "code",
   "execution_count": 112,
   "id": "f84a9727",
   "metadata": {},
   "outputs": [
    {
     "name": "stdout",
     "output_type": "stream",
     "text": [
      "Accuracy: 0.689\n",
      "Precision: 0.685\n",
      "Recall: 0.783\n",
      "F1-Score: 0.731\n",
      "\n",
      "Confusion Matrix:\n",
      "[[ 7686  5582]\n",
      " [ 3371 12161]]\n"
     ]
    }
   ],
   "source": [
    "# Model evaluation\n",
    "y_ridge_pred_train = best_ridge_classifier.predict(x_train_encoded)\n",
    "\n",
    "# evaluate model\n",
    "classification_model_evaluation(y_train, y_ridge_pred_train)\n",
    "\n",
    "# "
   ]
  },
  {
   "cell_type": "code",
   "execution_count": 113,
   "id": "8ce59101",
   "metadata": {},
   "outputs": [],
   "source": [
    "#############################################################\n",
    "## PassiveAggressiveClassifier  ##\n",
    "#############################################################"
   ]
  },
  {
   "cell_type": "code",
   "execution_count": 117,
   "id": "803cc181",
   "metadata": {},
   "outputs": [],
   "source": [
    "# Step 1: Define hyperparameter grid\n",
    "C_values = [0.1, 1, 10]  # Regularization parameter (inverse of regularization strength)\n",
    "max_iter_values = [50, 100, 200]  # Number of iterations\n",
    "loss_values = ['hinge', 'log']  # Loss function\n",
    "\n",
    "# Step 2: Create the parameter grid\n",
    "pa_param_grid = {\n",
    "    'C': C_values,\n",
    "    'max_iter': max_iter_values,\n",
    "    'loss': loss_values\n",
    "}\n",
    "\n",
    "# Step 3: Set up classifier\n",
    "pa_classifier = PassiveAggressiveClassifier()\n",
    "\n",
    "# Step 4: Build the grid search model\n",
    "pa_grid_search = GridSearchCV(\n",
    "    estimator=pa_classifier,\n",
    "    param_grid=pa_param_grid,\n",
    "    cv=5,  # 5-fold cross-validation\n",
    "    scoring='accuracy',  # Use accuracy as the scoring metric\n",
    "    n_jobs=-3,  # Use all available cores minus 2\n",
    "    verbose=1  # Output progress\n",
    ")"
   ]
  },
  {
   "cell_type": "code",
   "execution_count": 118,
   "id": "c23977a4",
   "metadata": {},
   "outputs": [
    {
     "name": "stdout",
     "output_type": "stream",
     "text": [
      "Fitting 5 folds for each of 18 candidates, totalling 90 fits\n"
     ]
    },
    {
     "name": "stderr",
     "output_type": "stream",
     "text": [
      "C:\\Users\\Mothership\\AppData\\Local\\Programs\\Python\\Python310\\lib\\site-packages\\sklearn\\linear_model\\_stochastic_gradient.py:173: FutureWarning: The loss 'log' was deprecated in v1.1 and will be removed in version 1.3. Use `loss='log_loss'` which is equivalent.\n",
      "  warnings.warn(\n"
     ]
    },
    {
     "data": {
      "text/html": [
       "<style>#sk-container-id-8 {color: black;background-color: white;}#sk-container-id-8 pre{padding: 0;}#sk-container-id-8 div.sk-toggleable {background-color: white;}#sk-container-id-8 label.sk-toggleable__label {cursor: pointer;display: block;width: 100%;margin-bottom: 0;padding: 0.3em;box-sizing: border-box;text-align: center;}#sk-container-id-8 label.sk-toggleable__label-arrow:before {content: \"▸\";float: left;margin-right: 0.25em;color: #696969;}#sk-container-id-8 label.sk-toggleable__label-arrow:hover:before {color: black;}#sk-container-id-8 div.sk-estimator:hover label.sk-toggleable__label-arrow:before {color: black;}#sk-container-id-8 div.sk-toggleable__content {max-height: 0;max-width: 0;overflow: hidden;text-align: left;background-color: #f0f8ff;}#sk-container-id-8 div.sk-toggleable__content pre {margin: 0.2em;color: black;border-radius: 0.25em;background-color: #f0f8ff;}#sk-container-id-8 input.sk-toggleable__control:checked~div.sk-toggleable__content {max-height: 200px;max-width: 100%;overflow: auto;}#sk-container-id-8 input.sk-toggleable__control:checked~label.sk-toggleable__label-arrow:before {content: \"▾\";}#sk-container-id-8 div.sk-estimator input.sk-toggleable__control:checked~label.sk-toggleable__label {background-color: #d4ebff;}#sk-container-id-8 div.sk-label input.sk-toggleable__control:checked~label.sk-toggleable__label {background-color: #d4ebff;}#sk-container-id-8 input.sk-hidden--visually {border: 0;clip: rect(1px 1px 1px 1px);clip: rect(1px, 1px, 1px, 1px);height: 1px;margin: -1px;overflow: hidden;padding: 0;position: absolute;width: 1px;}#sk-container-id-8 div.sk-estimator {font-family: monospace;background-color: #f0f8ff;border: 1px dotted black;border-radius: 0.25em;box-sizing: border-box;margin-bottom: 0.5em;}#sk-container-id-8 div.sk-estimator:hover {background-color: #d4ebff;}#sk-container-id-8 div.sk-parallel-item::after {content: \"\";width: 100%;border-bottom: 1px solid gray;flex-grow: 1;}#sk-container-id-8 div.sk-label:hover label.sk-toggleable__label {background-color: #d4ebff;}#sk-container-id-8 div.sk-serial::before {content: \"\";position: absolute;border-left: 1px solid gray;box-sizing: border-box;top: 0;bottom: 0;left: 50%;z-index: 0;}#sk-container-id-8 div.sk-serial {display: flex;flex-direction: column;align-items: center;background-color: white;padding-right: 0.2em;padding-left: 0.2em;position: relative;}#sk-container-id-8 div.sk-item {position: relative;z-index: 1;}#sk-container-id-8 div.sk-parallel {display: flex;align-items: stretch;justify-content: center;background-color: white;position: relative;}#sk-container-id-8 div.sk-item::before, #sk-container-id-8 div.sk-parallel-item::before {content: \"\";position: absolute;border-left: 1px solid gray;box-sizing: border-box;top: 0;bottom: 0;left: 50%;z-index: -1;}#sk-container-id-8 div.sk-parallel-item {display: flex;flex-direction: column;z-index: 1;position: relative;background-color: white;}#sk-container-id-8 div.sk-parallel-item:first-child::after {align-self: flex-end;width: 50%;}#sk-container-id-8 div.sk-parallel-item:last-child::after {align-self: flex-start;width: 50%;}#sk-container-id-8 div.sk-parallel-item:only-child::after {width: 0;}#sk-container-id-8 div.sk-dashed-wrapped {border: 1px dashed gray;margin: 0 0.4em 0.5em 0.4em;box-sizing: border-box;padding-bottom: 0.4em;background-color: white;}#sk-container-id-8 div.sk-label label {font-family: monospace;font-weight: bold;display: inline-block;line-height: 1.2em;}#sk-container-id-8 div.sk-label-container {text-align: center;}#sk-container-id-8 div.sk-container {/* jupyter's `normalize.less` sets `[hidden] { display: none; }` but bootstrap.min.css set `[hidden] { display: none !important; }` so we also need the `!important` here to be able to override the default hidden behavior on the sphinx rendered scikit-learn.org. See: https://github.com/scikit-learn/scikit-learn/issues/21755 */display: inline-block !important;position: relative;}#sk-container-id-8 div.sk-text-repr-fallback {display: none;}</style><div id=\"sk-container-id-8\" class=\"sk-top-container\"><div class=\"sk-text-repr-fallback\"><pre>GridSearchCV(cv=5, estimator=PassiveAggressiveClassifier(), n_jobs=-3,\n",
       "             param_grid={&#x27;C&#x27;: [0.1, 1, 10], &#x27;loss&#x27;: [&#x27;hinge&#x27;, &#x27;log&#x27;],\n",
       "                         &#x27;max_iter&#x27;: [50, 100, 200]},\n",
       "             scoring=&#x27;accuracy&#x27;, verbose=1)</pre><b>In a Jupyter environment, please rerun this cell to show the HTML representation or trust the notebook. <br />On GitHub, the HTML representation is unable to render, please try loading this page with nbviewer.org.</b></div><div class=\"sk-container\" hidden><div class=\"sk-item sk-dashed-wrapped\"><div class=\"sk-label-container\"><div class=\"sk-label sk-toggleable\"><input class=\"sk-toggleable__control sk-hidden--visually\" id=\"sk-estimator-id-10\" type=\"checkbox\" ><label for=\"sk-estimator-id-10\" class=\"sk-toggleable__label sk-toggleable__label-arrow\">GridSearchCV</label><div class=\"sk-toggleable__content\"><pre>GridSearchCV(cv=5, estimator=PassiveAggressiveClassifier(), n_jobs=-3,\n",
       "             param_grid={&#x27;C&#x27;: [0.1, 1, 10], &#x27;loss&#x27;: [&#x27;hinge&#x27;, &#x27;log&#x27;],\n",
       "                         &#x27;max_iter&#x27;: [50, 100, 200]},\n",
       "             scoring=&#x27;accuracy&#x27;, verbose=1)</pre></div></div></div><div class=\"sk-parallel\"><div class=\"sk-parallel-item\"><div class=\"sk-item\"><div class=\"sk-label-container\"><div class=\"sk-label sk-toggleable\"><input class=\"sk-toggleable__control sk-hidden--visually\" id=\"sk-estimator-id-11\" type=\"checkbox\" ><label for=\"sk-estimator-id-11\" class=\"sk-toggleable__label sk-toggleable__label-arrow\">estimator: PassiveAggressiveClassifier</label><div class=\"sk-toggleable__content\"><pre>PassiveAggressiveClassifier()</pre></div></div></div><div class=\"sk-serial\"><div class=\"sk-item\"><div class=\"sk-estimator sk-toggleable\"><input class=\"sk-toggleable__control sk-hidden--visually\" id=\"sk-estimator-id-12\" type=\"checkbox\" ><label for=\"sk-estimator-id-12\" class=\"sk-toggleable__label sk-toggleable__label-arrow\">PassiveAggressiveClassifier</label><div class=\"sk-toggleable__content\"><pre>PassiveAggressiveClassifier()</pre></div></div></div></div></div></div></div></div></div></div>"
      ],
      "text/plain": [
       "GridSearchCV(cv=5, estimator=PassiveAggressiveClassifier(), n_jobs=-3,\n",
       "             param_grid={'C': [0.1, 1, 10], 'loss': ['hinge', 'log'],\n",
       "                         'max_iter': [50, 100, 200]},\n",
       "             scoring='accuracy', verbose=1)"
      ]
     },
     "execution_count": 118,
     "metadata": {},
     "output_type": "execute_result"
    }
   ],
   "source": [
    "# Step 5: Fit the grid search\n",
    "pa_grid_search.fit(x_train_encoded, y_train)"
   ]
  },
  {
   "cell_type": "code",
   "execution_count": 119,
   "id": "bc480042",
   "metadata": {},
   "outputs": [
    {
     "data": {
      "image/png": "[encoded data removed]",
      "text/plain": [
       "<Figure size 1000x600 with 1 Axes>"
      ]
     },
     "metadata": {},
     "output_type": "display_data"
    }
   ],
   "source": [
    "# Extract results from GridSearchCV for the PassiveAggressiveClassifier\n",
    "pa_results = pd.DataFrame(pa_grid_search.cv_results_)\n",
    "\n",
    "# Plot performance for different 'C' values grouped by 'loss'\n",
    "plt.figure(figsize=(10, 6))\n",
    "\n",
    "# Loop over loss function values\n",
    "for loss in ['hinge', 'log']:  # Loss: ['hinge', 'log']\n",
    "    subset = pa_results[pa_results['param_loss'] == loss]\n",
    "    plt.plot(\n",
    "        subset['param_C'],  # Plot for different 'C' values\n",
    "        subset['mean_test_score'],  # Accuracy values are stored in 'mean_test_score'\n",
    "        marker='o',\n",
    "        label=f'Loss: {loss}'\n",
    "    )\n",
    "\n",
    "# Customize the plot\n",
    "plt.xscale('log')  # Log scale for 'C' values, as regularization strength varies exponentially\n",
    "plt.xlabel('C (Regularization Strength)')\n",
    "plt.ylabel('Mean Test Score (Accuracy)')\n",
    "plt.title('Passive Aggressive Classifier: Performance vs. Regularization Strength (C)')\n",
    "plt.legend(title='Loss Function')\n",
    "plt.grid(True)\n",
    "plt.show()"
   ]
  },
  {
   "cell_type": "code",
   "execution_count": 120,
   "id": "ae498905",
   "metadata": {},
   "outputs": [
    {
     "name": "stdout",
     "output_type": "stream",
     "text": [
      "Best C (regularization strength): 0.1\n",
      "Best max_iter (iterations): 100\n",
      "Best loss function: log\n"
     ]
    }
   ],
   "source": [
    "# Get the best parameters for PassiveAggressiveClassifier\n",
    "best_C_value = pa_grid_search.best_params_['C']\n",
    "best_max_iter_value = pa_grid_search.best_params_['max_iter']\n",
    "best_loss_value = pa_grid_search.best_params_['loss']\n",
    "\n",
    "# Print the best values\n",
    "print(f\"Best C (regularization strength): {best_C_value}\")\n",
    "print(f\"Best max_iter (iterations): {best_max_iter_value}\")\n",
    "print(f\"Best loss function: {best_loss_value}\")"
   ]
  },
  {
   "cell_type": "code",
   "execution_count": 121,
   "id": "13b9cd1b",
   "metadata": {},
   "outputs": [
    {
     "name": "stderr",
     "output_type": "stream",
     "text": [
      "C:\\Users\\Mothership\\AppData\\Local\\Programs\\Python\\Python310\\lib\\site-packages\\sklearn\\linear_model\\_stochastic_gradient.py:173: FutureWarning: The loss 'log' was deprecated in v1.1 and will be removed in version 1.3. Use `loss='log_loss'` which is equivalent.\n",
      "  warnings.warn(\n"
     ]
    },
    {
     "data": {
      "text/html": [
       "<style>#sk-container-id-9 {color: black;background-color: white;}#sk-container-id-9 pre{padding: 0;}#sk-container-id-9 div.sk-toggleable {background-color: white;}#sk-container-id-9 label.sk-toggleable__label {cursor: pointer;display: block;width: 100%;margin-bottom: 0;padding: 0.3em;box-sizing: border-box;text-align: center;}#sk-container-id-9 label.sk-toggleable__label-arrow:before {content: \"▸\";float: left;margin-right: 0.25em;color: #696969;}#sk-container-id-9 label.sk-toggleable__label-arrow:hover:before {color: black;}#sk-container-id-9 div.sk-estimator:hover label.sk-toggleable__label-arrow:before {color: black;}#sk-container-id-9 div.sk-toggleable__content {max-height: 0;max-width: 0;overflow: hidden;text-align: left;background-color: #f0f8ff;}#sk-container-id-9 div.sk-toggleable__content pre {margin: 0.2em;color: black;border-radius: 0.25em;background-color: #f0f8ff;}#sk-container-id-9 input.sk-toggleable__control:checked~div.sk-toggleable__content {max-height: 200px;max-width: 100%;overflow: auto;}#sk-container-id-9 input.sk-toggleable__control:checked~label.sk-toggleable__label-arrow:before {content: \"▾\";}#sk-container-id-9 div.sk-estimator input.sk-toggleable__control:checked~label.sk-toggleable__label {background-color: #d4ebff;}#sk-container-id-9 div.sk-label input.sk-toggleable__control:checked~label.sk-toggleable__label {background-color: #d4ebff;}#sk-container-id-9 input.sk-hidden--visually {border: 0;clip: rect(1px 1px 1px 1px);clip: rect(1px, 1px, 1px, 1px);height: 1px;margin: -1px;overflow: hidden;padding: 0;position: absolute;width: 1px;}#sk-container-id-9 div.sk-estimator {font-family: monospace;background-color: #f0f8ff;border: 1px dotted black;border-radius: 0.25em;box-sizing: border-box;margin-bottom: 0.5em;}#sk-container-id-9 div.sk-estimator:hover {background-color: #d4ebff;}#sk-container-id-9 div.sk-parallel-item::after {content: \"\";width: 100%;border-bottom: 1px solid gray;flex-grow: 1;}#sk-container-id-9 div.sk-label:hover label.sk-toggleable__label {background-color: #d4ebff;}#sk-container-id-9 div.sk-serial::before {content: \"\";position: absolute;border-left: 1px solid gray;box-sizing: border-box;top: 0;bottom: 0;left: 50%;z-index: 0;}#sk-container-id-9 div.sk-serial {display: flex;flex-direction: column;align-items: center;background-color: white;padding-right: 0.2em;padding-left: 0.2em;position: relative;}#sk-container-id-9 div.sk-item {position: relative;z-index: 1;}#sk-container-id-9 div.sk-parallel {display: flex;align-items: stretch;justify-content: center;background-color: white;position: relative;}#sk-container-id-9 div.sk-item::before, #sk-container-id-9 div.sk-parallel-item::before {content: \"\";position: absolute;border-left: 1px solid gray;box-sizing: border-box;top: 0;bottom: 0;left: 50%;z-index: -1;}#sk-container-id-9 div.sk-parallel-item {display: flex;flex-direction: column;z-index: 1;position: relative;background-color: white;}#sk-container-id-9 div.sk-parallel-item:first-child::after {align-self: flex-end;width: 50%;}#sk-container-id-9 div.sk-parallel-item:last-child::after {align-self: flex-start;width: 50%;}#sk-container-id-9 div.sk-parallel-item:only-child::after {width: 0;}#sk-container-id-9 div.sk-dashed-wrapped {border: 1px dashed gray;margin: 0 0.4em 0.5em 0.4em;box-sizing: border-box;padding-bottom: 0.4em;background-color: white;}#sk-container-id-9 div.sk-label label {font-family: monospace;font-weight: bold;display: inline-block;line-height: 1.2em;}#sk-container-id-9 div.sk-label-container {text-align: center;}#sk-container-id-9 div.sk-container {/* jupyter's `normalize.less` sets `[hidden] { display: none; }` but bootstrap.min.css set `[hidden] { display: none !important; }` so we also need the `!important` here to be able to override the default hidden behavior on the sphinx rendered scikit-learn.org. See: https://github.com/scikit-learn/scikit-learn/issues/21755 */display: inline-block !important;position: relative;}#sk-container-id-9 div.sk-text-repr-fallback {display: none;}</style><div id=\"sk-container-id-9\" class=\"sk-top-container\"><div class=\"sk-text-repr-fallback\"><pre>PassiveAggressiveClassifier(C=0.1, loss=&#x27;log&#x27;, max_iter=100)</pre><b>In a Jupyter environment, please rerun this cell to show the HTML representation or trust the notebook. <br />On GitHub, the HTML representation is unable to render, please try loading this page with nbviewer.org.</b></div><div class=\"sk-container\" hidden><div class=\"sk-item\"><div class=\"sk-estimator sk-toggleable\"><input class=\"sk-toggleable__control sk-hidden--visually\" id=\"sk-estimator-id-13\" type=\"checkbox\" checked><label for=\"sk-estimator-id-13\" class=\"sk-toggleable__label sk-toggleable__label-arrow\">PassiveAggressiveClassifier</label><div class=\"sk-toggleable__content\"><pre>PassiveAggressiveClassifier(C=0.1, loss=&#x27;log&#x27;, max_iter=100)</pre></div></div></div></div></div>"
      ],
      "text/plain": [
       "PassiveAggressiveClassifier(C=0.1, loss='log', max_iter=100)"
      ]
     },
     "execution_count": 121,
     "metadata": {},
     "output_type": "execute_result"
    }
   ],
   "source": [
    "# Fit final PassiveAggressiveClassifier model using the best parameters found\n",
    "best_pa_classifier = PassiveAggressiveClassifier(\n",
    "    C=best_C_value,  # best C (regularization strength) from grid search\n",
    "    max_iter=best_max_iter_value,  # best max_iter (iterations) from grid search\n",
    "    loss=best_loss_value  # best loss function from grid search\n",
    ")\n",
    "\n",
    "best_pa_classifier.fit(x_train_encoded, y_train)  # Train the model"
   ]
  },
  {
   "cell_type": "code",
   "execution_count": 122,
   "id": "29695e8e",
   "metadata": {},
   "outputs": [
    {
     "name": "stdout",
     "output_type": "stream",
     "text": [
      "Accuracy: 0.623\n",
      "Precision: 0.612\n",
      "Recall: 0.823\n",
      "F1-Score: 0.702\n",
      "\n",
      "Confusion Matrix:\n",
      "[[ 5161  8107]\n",
      " [ 2748 12784]]\n"
     ]
    }
   ],
   "source": [
    "# Model evaluation\n",
    "y_pa_pred_train = best_pa_classifier.predict(x_train_encoded)\n",
    "\n",
    "# Evaluate model\n",
    "classification_model_evaluation(y_train, y_pa_pred_train)\n",
    "\n",
    "# This has less accuracy, pretty bad, lets not use "
   ]
  },
  {
   "cell_type": "code",
   "execution_count": 123,
   "id": "97370d60",
   "metadata": {},
   "outputs": [],
   "source": [
    "#############################################################\n",
    "##  Perceptron  ##\n",
    "#############################################################"
   ]
  },
  {
   "cell_type": "code",
   "execution_count": 124,
   "id": "df180a4f",
   "metadata": {},
   "outputs": [],
   "source": [
    "# Step 1: Define hyperparameter grid\n",
    "alpha_values = [0.0001, 0.001, 0.01]  # Regularization parameter (Inverse of regularization strength)\n",
    "max_iter_values = [50, 100, 200]  # Number of iterations\n",
    "penalty_values = ['l2', 'l1', 'elasticnet']  # Penalty type (regularization)\n",
    "\n",
    "# Step 2: Create the parameter grid\n",
    "perceptron_param_grid = {\n",
    "    'alpha': alpha_values,\n",
    "    'max_iter': max_iter_values,\n",
    "    'penalty': penalty_values\n",
    "}\n",
    "\n",
    "# Step 3: Set up classifier\n",
    "perceptron_classifier = Perceptron()\n",
    "\n",
    "# Step 4: Build the grid search model\n",
    "perceptron_grid_search = GridSearchCV(\n",
    "    estimator=perceptron_classifier,\n",
    "    param_grid=perceptron_param_grid,\n",
    "    cv=5,  # 5-fold cross-validation\n",
    "    scoring='accuracy',  # Use accuracy as the scoring metric\n",
    "    n_jobs=-3,  # Use all available cores minus 2\n",
    "    verbose=1  # Output progress\n",
    ")\n"
   ]
  },
  {
   "cell_type": "code",
   "execution_count": 125,
   "id": "41f61b66",
   "metadata": {},
   "outputs": [
    {
     "name": "stdout",
     "output_type": "stream",
     "text": [
      "Fitting 5 folds for each of 27 candidates, totalling 135 fits\n"
     ]
    },
    {
     "data": {
      "text/html": [
       "<style>#sk-container-id-10 {color: black;background-color: white;}#sk-container-id-10 pre{padding: 0;}#sk-container-id-10 div.sk-toggleable {background-color: white;}#sk-container-id-10 label.sk-toggleable__label {cursor: pointer;display: block;width: 100%;margin-bottom: 0;padding: 0.3em;box-sizing: border-box;text-align: center;}#sk-container-id-10 label.sk-toggleable__label-arrow:before {content: \"▸\";float: left;margin-right: 0.25em;color: #696969;}#sk-container-id-10 label.sk-toggleable__label-arrow:hover:before {color: black;}#sk-container-id-10 div.sk-estimator:hover label.sk-toggleable__label-arrow:before {color: black;}#sk-container-id-10 div.sk-toggleable__content {max-height: 0;max-width: 0;overflow: hidden;text-align: left;background-color: #f0f8ff;}#sk-container-id-10 div.sk-toggleable__content pre {margin: 0.2em;color: black;border-radius: 0.25em;background-color: #f0f8ff;}#sk-container-id-10 input.sk-toggleable__control:checked~div.sk-toggleable__content {max-height: 200px;max-width: 100%;overflow: auto;}#sk-container-id-10 input.sk-toggleable__control:checked~label.sk-toggleable__label-arrow:before {content: \"▾\";}#sk-container-id-10 div.sk-estimator input.sk-toggleable__control:checked~label.sk-toggleable__label {background-color: #d4ebff;}#sk-container-id-10 div.sk-label input.sk-toggleable__control:checked~label.sk-toggleable__label {background-color: #d4ebff;}#sk-container-id-10 input.sk-hidden--visually {border: 0;clip: rect(1px 1px 1px 1px);clip: rect(1px, 1px, 1px, 1px);height: 1px;margin: -1px;overflow: hidden;padding: 0;position: absolute;width: 1px;}#sk-container-id-10 div.sk-estimator {font-family: monospace;background-color: #f0f8ff;border: 1px dotted black;border-radius: 0.25em;box-sizing: border-box;margin-bottom: 0.5em;}#sk-container-id-10 div.sk-estimator:hover {background-color: #d4ebff;}#sk-container-id-10 div.sk-parallel-item::after {content: \"\";width: 100%;border-bottom: 1px solid gray;flex-grow: 1;}#sk-container-id-10 div.sk-label:hover label.sk-toggleable__label {background-color: #d4ebff;}#sk-container-id-10 div.sk-serial::before {content: \"\";position: absolute;border-left: 1px solid gray;box-sizing: border-box;top: 0;bottom: 0;left: 50%;z-index: 0;}#sk-container-id-10 div.sk-serial {display: flex;flex-direction: column;align-items: center;background-color: white;padding-right: 0.2em;padding-left: 0.2em;position: relative;}#sk-container-id-10 div.sk-item {position: relative;z-index: 1;}#sk-container-id-10 div.sk-parallel {display: flex;align-items: stretch;justify-content: center;background-color: white;position: relative;}#sk-container-id-10 div.sk-item::before, #sk-container-id-10 div.sk-parallel-item::before {content: \"\";position: absolute;border-left: 1px solid gray;box-sizing: border-box;top: 0;bottom: 0;left: 50%;z-index: -1;}#sk-container-id-10 div.sk-parallel-item {display: flex;flex-direction: column;z-index: 1;position: relative;background-color: white;}#sk-container-id-10 div.sk-parallel-item:first-child::after {align-self: flex-end;width: 50%;}#sk-container-id-10 div.sk-parallel-item:last-child::after {align-self: flex-start;width: 50%;}#sk-container-id-10 div.sk-parallel-item:only-child::after {width: 0;}#sk-container-id-10 div.sk-dashed-wrapped {border: 1px dashed gray;margin: 0 0.4em 0.5em 0.4em;box-sizing: border-box;padding-bottom: 0.4em;background-color: white;}#sk-container-id-10 div.sk-label label {font-family: monospace;font-weight: bold;display: inline-block;line-height: 1.2em;}#sk-container-id-10 div.sk-label-container {text-align: center;}#sk-container-id-10 div.sk-container {/* jupyter's `normalize.less` sets `[hidden] { display: none; }` but bootstrap.min.css set `[hidden] { display: none !important; }` so we also need the `!important` here to be able to override the default hidden behavior on the sphinx rendered scikit-learn.org. See: https://github.com/scikit-learn/scikit-learn/issues/21755 */display: inline-block !important;position: relative;}#sk-container-id-10 div.sk-text-repr-fallback {display: none;}</style><div id=\"sk-container-id-10\" class=\"sk-top-container\"><div class=\"sk-text-repr-fallback\"><pre>GridSearchCV(cv=5, estimator=Perceptron(), n_jobs=-3,\n",
       "             param_grid={&#x27;alpha&#x27;: [0.0001, 0.001, 0.01],\n",
       "                         &#x27;max_iter&#x27;: [50, 100, 200],\n",
       "                         &#x27;penalty&#x27;: [&#x27;l2&#x27;, &#x27;l1&#x27;, &#x27;elasticnet&#x27;]},\n",
       "             scoring=&#x27;accuracy&#x27;, verbose=1)</pre><b>In a Jupyter environment, please rerun this cell to show the HTML representation or trust the notebook. <br />On GitHub, the HTML representation is unable to render, please try loading this page with nbviewer.org.</b></div><div class=\"sk-container\" hidden><div class=\"sk-item sk-dashed-wrapped\"><div class=\"sk-label-container\"><div class=\"sk-label sk-toggleable\"><input class=\"sk-toggleable__control sk-hidden--visually\" id=\"sk-estimator-id-14\" type=\"checkbox\" ><label for=\"sk-estimator-id-14\" class=\"sk-toggleable__label sk-toggleable__label-arrow\">GridSearchCV</label><div class=\"sk-toggleable__content\"><pre>GridSearchCV(cv=5, estimator=Perceptron(), n_jobs=-3,\n",
       "             param_grid={&#x27;alpha&#x27;: [0.0001, 0.001, 0.01],\n",
       "                         &#x27;max_iter&#x27;: [50, 100, 200],\n",
       "                         &#x27;penalty&#x27;: [&#x27;l2&#x27;, &#x27;l1&#x27;, &#x27;elasticnet&#x27;]},\n",
       "             scoring=&#x27;accuracy&#x27;, verbose=1)</pre></div></div></div><div class=\"sk-parallel\"><div class=\"sk-parallel-item\"><div class=\"sk-item\"><div class=\"sk-label-container\"><div class=\"sk-label sk-toggleable\"><input class=\"sk-toggleable__control sk-hidden--visually\" id=\"sk-estimator-id-15\" type=\"checkbox\" ><label for=\"sk-estimator-id-15\" class=\"sk-toggleable__label sk-toggleable__label-arrow\">estimator: Perceptron</label><div class=\"sk-toggleable__content\"><pre>Perceptron()</pre></div></div></div><div class=\"sk-serial\"><div class=\"sk-item\"><div class=\"sk-estimator sk-toggleable\"><input class=\"sk-toggleable__control sk-hidden--visually\" id=\"sk-estimator-id-16\" type=\"checkbox\" ><label for=\"sk-estimator-id-16\" class=\"sk-toggleable__label sk-toggleable__label-arrow\">Perceptron</label><div class=\"sk-toggleable__content\"><pre>Perceptron()</pre></div></div></div></div></div></div></div></div></div></div>"
      ],
      "text/plain": [
       "GridSearchCV(cv=5, estimator=Perceptron(), n_jobs=-3,\n",
       "             param_grid={'alpha': [0.0001, 0.001, 0.01],\n",
       "                         'max_iter': [50, 100, 200],\n",
       "                         'penalty': ['l2', 'l1', 'elasticnet']},\n",
       "             scoring='accuracy', verbose=1)"
      ]
     },
     "execution_count": 125,
     "metadata": {},
     "output_type": "execute_result"
    }
   ],
   "source": [
    "# Step 5: Fit the grid search\n",
    "perceptron_grid_search.fit(x_train_encoded, y_train)"
   ]
  },
  {
   "cell_type": "code",
   "execution_count": 126,
   "id": "a9b235b8",
   "metadata": {},
   "outputs": [
    {
     "data": {
      "image/png": "[encoded data removed]",
      "text/plain": [
       "<Figure size 1000x600 with 1 Axes>"
      ]
     },
     "metadata": {},
     "output_type": "display_data"
    }
   ],
   "source": [
    "# Extract results from GridSearchCV for the Perceptron\n",
    "perceptron_results = pd.DataFrame(perceptron_grid_search.cv_results_)\n",
    "\n",
    "# Plot performance for different 'alpha' values grouped by 'penalty'\n",
    "plt.figure(figsize=(10, 6))\n",
    "\n",
    "# Loop over penalty values\n",
    "for penalty in ['l2', 'l1', 'elasticnet']:  # Penalty: ['l2', 'l1', 'elasticnet']\n",
    "    subset = perceptron_results[perceptron_results['param_penalty'] == penalty]\n",
    "    plt.plot(\n",
    "        subset['param_alpha'],  # Plot for different 'alpha' values\n",
    "        subset['mean_test_score'],  # Accuracy values are stored in 'mean_test_score'\n",
    "        marker='o',\n",
    "        label=f'Penalty: {penalty}'\n",
    "    )\n",
    "\n",
    "# Customize the plot\n",
    "plt.xscale('log')  # Log scale for 'alpha' values, as regularization strength varies exponentially\n",
    "plt.xlabel('Alpha (Regularization Strength)')\n",
    "plt.ylabel('Mean Test Score (Accuracy)')\n",
    "plt.title('Perceptron Classifier: Performance vs. Regularization Strength (Alpha)')\n",
    "plt.legend(title='Penalty Type')\n",
    "plt.grid(True)\n",
    "plt.show()"
   ]
  },
  {
   "cell_type": "code",
   "execution_count": 127,
   "id": "12fd7c63",
   "metadata": {},
   "outputs": [
    {
     "name": "stdout",
     "output_type": "stream",
     "text": [
      "Best alpha (regularization strength): 0.001\n",
      "Best max_iter (iterations): 50\n",
      "Best penalty: l1\n"
     ]
    }
   ],
   "source": [
    "# Get the best parameters for Perceptron\n",
    "best_alpha_value = perceptron_grid_search.best_params_['alpha']\n",
    "best_max_iter_value = perceptron_grid_search.best_params_['max_iter']\n",
    "best_penalty_value = perceptron_grid_search.best_params_['penalty']\n",
    "\n",
    "# Print the best values\n",
    "print(f\"Best alpha (regularization strength): {best_alpha_value}\")\n",
    "print(f\"Best max_iter (iterations): {best_max_iter_value}\")\n",
    "print(f\"Best penalty: {best_penalty_value}\")"
   ]
  },
  {
   "cell_type": "code",
   "execution_count": 128,
   "id": "2136844c",
   "metadata": {},
   "outputs": [
    {
     "data": {
      "text/html": [
       "<style>#sk-container-id-11 {color: black;background-color: white;}#sk-container-id-11 pre{padding: 0;}#sk-container-id-11 div.sk-toggleable {background-color: white;}#sk-container-id-11 label.sk-toggleable__label {cursor: pointer;display: block;width: 100%;margin-bottom: 0;padding: 0.3em;box-sizing: border-box;text-align: center;}#sk-container-id-11 label.sk-toggleable__label-arrow:before {content: \"▸\";float: left;margin-right: 0.25em;color: #696969;}#sk-container-id-11 label.sk-toggleable__label-arrow:hover:before {color: black;}#sk-container-id-11 div.sk-estimator:hover label.sk-toggleable__label-arrow:before {color: black;}#sk-container-id-11 div.sk-toggleable__content {max-height: 0;max-width: 0;overflow: hidden;text-align: left;background-color: #f0f8ff;}#sk-container-id-11 div.sk-toggleable__content pre {margin: 0.2em;color: black;border-radius: 0.25em;background-color: #f0f8ff;}#sk-container-id-11 input.sk-toggleable__control:checked~div.sk-toggleable__content {max-height: 200px;max-width: 100%;overflow: auto;}#sk-container-id-11 input.sk-toggleable__control:checked~label.sk-toggleable__label-arrow:before {content: \"▾\";}#sk-container-id-11 div.sk-estimator input.sk-toggleable__control:checked~label.sk-toggleable__label {background-color: #d4ebff;}#sk-container-id-11 div.sk-label input.sk-toggleable__control:checked~label.sk-toggleable__label {background-color: #d4ebff;}#sk-container-id-11 input.sk-hidden--visually {border: 0;clip: rect(1px 1px 1px 1px);clip: rect(1px, 1px, 1px, 1px);height: 1px;margin: -1px;overflow: hidden;padding: 0;position: absolute;width: 1px;}#sk-container-id-11 div.sk-estimator {font-family: monospace;background-color: #f0f8ff;border: 1px dotted black;border-radius: 0.25em;box-sizing: border-box;margin-bottom: 0.5em;}#sk-container-id-11 div.sk-estimator:hover {background-color: #d4ebff;}#sk-container-id-11 div.sk-parallel-item::after {content: \"\";width: 100%;border-bottom: 1px solid gray;flex-grow: 1;}#sk-container-id-11 div.sk-label:hover label.sk-toggleable__label {background-color: #d4ebff;}#sk-container-id-11 div.sk-serial::before {content: \"\";position: absolute;border-left: 1px solid gray;box-sizing: border-box;top: 0;bottom: 0;left: 50%;z-index: 0;}#sk-container-id-11 div.sk-serial {display: flex;flex-direction: column;align-items: center;background-color: white;padding-right: 0.2em;padding-left: 0.2em;position: relative;}#sk-container-id-11 div.sk-item {position: relative;z-index: 1;}#sk-container-id-11 div.sk-parallel {display: flex;align-items: stretch;justify-content: center;background-color: white;position: relative;}#sk-container-id-11 div.sk-item::before, #sk-container-id-11 div.sk-parallel-item::before {content: \"\";position: absolute;border-left: 1px solid gray;box-sizing: border-box;top: 0;bottom: 0;left: 50%;z-index: -1;}#sk-container-id-11 div.sk-parallel-item {display: flex;flex-direction: column;z-index: 1;position: relative;background-color: white;}#sk-container-id-11 div.sk-parallel-item:first-child::after {align-self: flex-end;width: 50%;}#sk-container-id-11 div.sk-parallel-item:last-child::after {align-self: flex-start;width: 50%;}#sk-container-id-11 div.sk-parallel-item:only-child::after {width: 0;}#sk-container-id-11 div.sk-dashed-wrapped {border: 1px dashed gray;margin: 0 0.4em 0.5em 0.4em;box-sizing: border-box;padding-bottom: 0.4em;background-color: white;}#sk-container-id-11 div.sk-label label {font-family: monospace;font-weight: bold;display: inline-block;line-height: 1.2em;}#sk-container-id-11 div.sk-label-container {text-align: center;}#sk-container-id-11 div.sk-container {/* jupyter's `normalize.less` sets `[hidden] { display: none; }` but bootstrap.min.css set `[hidden] { display: none !important; }` so we also need the `!important` here to be able to override the default hidden behavior on the sphinx rendered scikit-learn.org. See: https://github.com/scikit-learn/scikit-learn/issues/21755 */display: inline-block !important;position: relative;}#sk-container-id-11 div.sk-text-repr-fallback {display: none;}</style><div id=\"sk-container-id-11\" class=\"sk-top-container\"><div class=\"sk-text-repr-fallback\"><pre>Perceptron(alpha=0.001, max_iter=50, penalty=&#x27;l1&#x27;)</pre><b>In a Jupyter environment, please rerun this cell to show the HTML representation or trust the notebook. <br />On GitHub, the HTML representation is unable to render, please try loading this page with nbviewer.org.</b></div><div class=\"sk-container\" hidden><div class=\"sk-item\"><div class=\"sk-estimator sk-toggleable\"><input class=\"sk-toggleable__control sk-hidden--visually\" id=\"sk-estimator-id-17\" type=\"checkbox\" checked><label for=\"sk-estimator-id-17\" class=\"sk-toggleable__label sk-toggleable__label-arrow\">Perceptron</label><div class=\"sk-toggleable__content\"><pre>Perceptron(alpha=0.001, max_iter=50, penalty=&#x27;l1&#x27;)</pre></div></div></div></div></div>"
      ],
      "text/plain": [
       "Perceptron(alpha=0.001, max_iter=50, penalty='l1')"
      ]
     },
     "execution_count": 128,
     "metadata": {},
     "output_type": "execute_result"
    }
   ],
   "source": [
    "# Fit final Perceptron model using the best parameters found\n",
    "best_perceptron_classifier = Perceptron(\n",
    "    alpha=best_alpha_value,  # best alpha (regularization strength) from grid search\n",
    "    max_iter=best_max_iter_value,  # best max_iter (iterations) from grid search\n",
    "    penalty=best_penalty_value  # best penalty from grid search\n",
    ")\n",
    "\n",
    "best_perceptron_classifier.fit(x_train_encoded, y_train)  # Train the model"
   ]
  },
  {
   "cell_type": "code",
   "execution_count": 129,
   "id": "e3cf0fe3",
   "metadata": {},
   "outputs": [
    {
     "name": "stdout",
     "output_type": "stream",
     "text": [
      "Accuracy: 0.641\n",
      "Precision: 0.657\n",
      "Recall: 0.700\n",
      "F1-Score: 0.678\n",
      "\n",
      "Confusion Matrix:\n",
      "[[ 7593  5675]\n",
      " [ 4659 10873]]\n"
     ]
    }
   ],
   "source": [
    "# Model evaluation\n",
    "y_perceptron_pred_train = best_perceptron_classifier.predict(x_train_encoded)\n",
    "\n",
    "# Evaluate model\n",
    "classification_model_evaluation(y_train, y_perceptron_pred_train)\n",
    "\n",
    "# This has pretty meh accuracy \n",
    "# probably not worth haveing run "
   ]
  },
  {
   "cell_type": "code",
   "execution_count": 130,
   "id": "794d2ca4",
   "metadata": {},
   "outputs": [],
   "source": [
    "#############################################################\n",
    "## KNeighborsClassifier  ##\n",
    "#############################################################"
   ]
  },
  {
   "cell_type": "code",
   "execution_count": 131,
   "id": "30e91ebf",
   "metadata": {},
   "outputs": [],
   "source": [
    "# Step 1: Define hyperparameter grid\n",
    "n_neighbors_values = [3, 5, 7, 10]  # Number of neighbors\n",
    "weights_values = ['uniform', 'distance']  # Weight function used in prediction\n",
    "p_values = [1, 2]  # Power parameter for the Minkowski metric (1: Manhattan, 2: Euclidean)\n",
    "\n",
    "# Step 2: Create the parameter grid\n",
    "knn_param_grid = {\n",
    "    'n_neighbors': n_neighbors_values,\n",
    "    'weights': weights_values,\n",
    "    'p': p_values\n",
    "}\n",
    "\n",
    "# Step 3: Set up classifier\n",
    "knn_classifier = KNeighborsClassifier()\n",
    "\n",
    "# Step 4: Build the grid search model\n",
    "knn_grid_search = GridSearchCV(\n",
    "    estimator=knn_classifier,\n",
    "    param_grid=knn_param_grid,\n",
    "    cv=5,  # 5-fold cross-validation\n",
    "    scoring='accuracy',  # Use accuracy as the scoring metric\n",
    "    n_jobs=-3,  # Use all available cores minus 2\n",
    "    verbose=1  # Output progress\n",
    ")\n"
   ]
  },
  {
   "cell_type": "code",
   "execution_count": 132,
   "id": "ef5fe750",
   "metadata": {},
   "outputs": [
    {
     "name": "stdout",
     "output_type": "stream",
     "text": [
      "Fitting 5 folds for each of 16 candidates, totalling 80 fits\n"
     ]
    },
    {
     "data": {
      "text/html": [
       "<style>#sk-container-id-12 {color: black;background-color: white;}#sk-container-id-12 pre{padding: 0;}#sk-container-id-12 div.sk-toggleable {background-color: white;}#sk-container-id-12 label.sk-toggleable__label {cursor: pointer;display: block;width: 100%;margin-bottom: 0;padding: 0.3em;box-sizing: border-box;text-align: center;}#sk-container-id-12 label.sk-toggleable__label-arrow:before {content: \"▸\";float: left;margin-right: 0.25em;color: #696969;}#sk-container-id-12 label.sk-toggleable__label-arrow:hover:before {color: black;}#sk-container-id-12 div.sk-estimator:hover label.sk-toggleable__label-arrow:before {color: black;}#sk-container-id-12 div.sk-toggleable__content {max-height: 0;max-width: 0;overflow: hidden;text-align: left;background-color: #f0f8ff;}#sk-container-id-12 div.sk-toggleable__content pre {margin: 0.2em;color: black;border-radius: 0.25em;background-color: #f0f8ff;}#sk-container-id-12 input.sk-toggleable__control:checked~div.sk-toggleable__content {max-height: 200px;max-width: 100%;overflow: auto;}#sk-container-id-12 input.sk-toggleable__control:checked~label.sk-toggleable__label-arrow:before {content: \"▾\";}#sk-container-id-12 div.sk-estimator input.sk-toggleable__control:checked~label.sk-toggleable__label {background-color: #d4ebff;}#sk-container-id-12 div.sk-label input.sk-toggleable__control:checked~label.sk-toggleable__label {background-color: #d4ebff;}#sk-container-id-12 input.sk-hidden--visually {border: 0;clip: rect(1px 1px 1px 1px);clip: rect(1px, 1px, 1px, 1px);height: 1px;margin: -1px;overflow: hidden;padding: 0;position: absolute;width: 1px;}#sk-container-id-12 div.sk-estimator {font-family: monospace;background-color: #f0f8ff;border: 1px dotted black;border-radius: 0.25em;box-sizing: border-box;margin-bottom: 0.5em;}#sk-container-id-12 div.sk-estimator:hover {background-color: #d4ebff;}#sk-container-id-12 div.sk-parallel-item::after {content: \"\";width: 100%;border-bottom: 1px solid gray;flex-grow: 1;}#sk-container-id-12 div.sk-label:hover label.sk-toggleable__label {background-color: #d4ebff;}#sk-container-id-12 div.sk-serial::before {content: \"\";position: absolute;border-left: 1px solid gray;box-sizing: border-box;top: 0;bottom: 0;left: 50%;z-index: 0;}#sk-container-id-12 div.sk-serial {display: flex;flex-direction: column;align-items: center;background-color: white;padding-right: 0.2em;padding-left: 0.2em;position: relative;}#sk-container-id-12 div.sk-item {position: relative;z-index: 1;}#sk-container-id-12 div.sk-parallel {display: flex;align-items: stretch;justify-content: center;background-color: white;position: relative;}#sk-container-id-12 div.sk-item::before, #sk-container-id-12 div.sk-parallel-item::before {content: \"\";position: absolute;border-left: 1px solid gray;box-sizing: border-box;top: 0;bottom: 0;left: 50%;z-index: -1;}#sk-container-id-12 div.sk-parallel-item {display: flex;flex-direction: column;z-index: 1;position: relative;background-color: white;}#sk-container-id-12 div.sk-parallel-item:first-child::after {align-self: flex-end;width: 50%;}#sk-container-id-12 div.sk-parallel-item:last-child::after {align-self: flex-start;width: 50%;}#sk-container-id-12 div.sk-parallel-item:only-child::after {width: 0;}#sk-container-id-12 div.sk-dashed-wrapped {border: 1px dashed gray;margin: 0 0.4em 0.5em 0.4em;box-sizing: border-box;padding-bottom: 0.4em;background-color: white;}#sk-container-id-12 div.sk-label label {font-family: monospace;font-weight: bold;display: inline-block;line-height: 1.2em;}#sk-container-id-12 div.sk-label-container {text-align: center;}#sk-container-id-12 div.sk-container {/* jupyter's `normalize.less` sets `[hidden] { display: none; }` but bootstrap.min.css set `[hidden] { display: none !important; }` so we also need the `!important` here to be able to override the default hidden behavior on the sphinx rendered scikit-learn.org. See: https://github.com/scikit-learn/scikit-learn/issues/21755 */display: inline-block !important;position: relative;}#sk-container-id-12 div.sk-text-repr-fallback {display: none;}</style><div id=\"sk-container-id-12\" class=\"sk-top-container\"><div class=\"sk-text-repr-fallback\"><pre>GridSearchCV(cv=5, estimator=KNeighborsClassifier(), n_jobs=-3,\n",
       "             param_grid={&#x27;n_neighbors&#x27;: [3, 5, 7, 10], &#x27;p&#x27;: [1, 2],\n",
       "                         &#x27;weights&#x27;: [&#x27;uniform&#x27;, &#x27;distance&#x27;]},\n",
       "             scoring=&#x27;accuracy&#x27;, verbose=1)</pre><b>In a Jupyter environment, please rerun this cell to show the HTML representation or trust the notebook. <br />On GitHub, the HTML representation is unable to render, please try loading this page with nbviewer.org.</b></div><div class=\"sk-container\" hidden><div class=\"sk-item sk-dashed-wrapped\"><div class=\"sk-label-container\"><div class=\"sk-label sk-toggleable\"><input class=\"sk-toggleable__control sk-hidden--visually\" id=\"sk-estimator-id-18\" type=\"checkbox\" ><label for=\"sk-estimator-id-18\" class=\"sk-toggleable__label sk-toggleable__label-arrow\">GridSearchCV</label><div class=\"sk-toggleable__content\"><pre>GridSearchCV(cv=5, estimator=KNeighborsClassifier(), n_jobs=-3,\n",
       "             param_grid={&#x27;n_neighbors&#x27;: [3, 5, 7, 10], &#x27;p&#x27;: [1, 2],\n",
       "                         &#x27;weights&#x27;: [&#x27;uniform&#x27;, &#x27;distance&#x27;]},\n",
       "             scoring=&#x27;accuracy&#x27;, verbose=1)</pre></div></div></div><div class=\"sk-parallel\"><div class=\"sk-parallel-item\"><div class=\"sk-item\"><div class=\"sk-label-container\"><div class=\"sk-label sk-toggleable\"><input class=\"sk-toggleable__control sk-hidden--visually\" id=\"sk-estimator-id-19\" type=\"checkbox\" ><label for=\"sk-estimator-id-19\" class=\"sk-toggleable__label sk-toggleable__label-arrow\">estimator: KNeighborsClassifier</label><div class=\"sk-toggleable__content\"><pre>KNeighborsClassifier()</pre></div></div></div><div class=\"sk-serial\"><div class=\"sk-item\"><div class=\"sk-estimator sk-toggleable\"><input class=\"sk-toggleable__control sk-hidden--visually\" id=\"sk-estimator-id-20\" type=\"checkbox\" ><label for=\"sk-estimator-id-20\" class=\"sk-toggleable__label sk-toggleable__label-arrow\">KNeighborsClassifier</label><div class=\"sk-toggleable__content\"><pre>KNeighborsClassifier()</pre></div></div></div></div></div></div></div></div></div></div>"
      ],
      "text/plain": [
       "GridSearchCV(cv=5, estimator=KNeighborsClassifier(), n_jobs=-3,\n",
       "             param_grid={'n_neighbors': [3, 5, 7, 10], 'p': [1, 2],\n",
       "                         'weights': ['uniform', 'distance']},\n",
       "             scoring='accuracy', verbose=1)"
      ]
     },
     "execution_count": 132,
     "metadata": {},
     "output_type": "execute_result"
    }
   ],
   "source": [
    "# Step 5: Fit the grid search\n",
    "knn_grid_search.fit(x_train_encoded, y_train)"
   ]
  },
  {
   "cell_type": "code",
   "execution_count": 133,
   "id": "329085b1",
   "metadata": {},
   "outputs": [
    {
     "data": {
      "image/png": "[encoded data removed]",
      "text/plain": [
       "<Figure size 1000x600 with 1 Axes>"
      ]
     },
     "metadata": {},
     "output_type": "display_data"
    }
   ],
   "source": [
    "# Extract results from GridSearchCV for KNeighborsClassifier\n",
    "knn_results = pd.DataFrame(knn_grid_search.cv_results_)\n",
    "\n",
    "# Plot performance for different 'n_neighbors' values grouped by 'weights'\n",
    "plt.figure(figsize=(10, 6))\n",
    "\n",
    "# Loop over weight function values\n",
    "for weight in ['uniform', 'distance']:  # Weight function: ['uniform', 'distance']\n",
    "    subset = knn_results[knn_results['param_weights'] == weight]\n",
    "    plt.plot(\n",
    "        subset['param_n_neighbors'],  # Plot for different 'n_neighbors' values\n",
    "        subset['mean_test_score'],  # Accuracy values are stored in 'mean_test_score'\n",
    "        marker='o',\n",
    "        label=f'Weight: {weight}'\n",
    "    )\n",
    "\n",
    "# Customize the plot\n",
    "plt.xlabel('Number of Neighbors (n_neighbors)')\n",
    "plt.ylabel('Mean Test Score (Accuracy)')\n",
    "plt.title('KNeighbors Classifier: Performance vs. Number of Neighbors')\n",
    "plt.legend(title='Weight Function')\n",
    "plt.grid(True)\n",
    "plt.show()"
   ]
  },
  {
   "cell_type": "code",
   "execution_count": 134,
   "id": "7b04c5e5",
   "metadata": {},
   "outputs": [
    {
     "name": "stdout",
     "output_type": "stream",
     "text": [
      "Best n_neighbors: 10\n",
      "Best weights: distance\n",
      "Best p: 1\n"
     ]
    }
   ],
   "source": [
    "# Get the best parameters for KNeighborsClassifier\n",
    "best_n_neighbors_value = knn_grid_search.best_params_['n_neighbors']\n",
    "best_weights_value = knn_grid_search.best_params_['weights']\n",
    "best_p_value = knn_grid_search.best_params_['p']\n",
    "\n",
    "# Print the best values\n",
    "print(f\"Best n_neighbors: {best_n_neighbors_value}\")\n",
    "print(f\"Best weights: {best_weights_value}\")\n",
    "print(f\"Best p: {best_p_value}\")"
   ]
  },
  {
   "cell_type": "code",
   "execution_count": 135,
   "id": "969ff806",
   "metadata": {},
   "outputs": [
    {
     "data": {
      "text/html": [
       "<style>#sk-container-id-13 {color: black;background-color: white;}#sk-container-id-13 pre{padding: 0;}#sk-container-id-13 div.sk-toggleable {background-color: white;}#sk-container-id-13 label.sk-toggleable__label {cursor: pointer;display: block;width: 100%;margin-bottom: 0;padding: 0.3em;box-sizing: border-box;text-align: center;}#sk-container-id-13 label.sk-toggleable__label-arrow:before {content: \"▸\";float: left;margin-right: 0.25em;color: #696969;}#sk-container-id-13 label.sk-toggleable__label-arrow:hover:before {color: black;}#sk-container-id-13 div.sk-estimator:hover label.sk-toggleable__label-arrow:before {color: black;}#sk-container-id-13 div.sk-toggleable__content {max-height: 0;max-width: 0;overflow: hidden;text-align: left;background-color: #f0f8ff;}#sk-container-id-13 div.sk-toggleable__content pre {margin: 0.2em;color: black;border-radius: 0.25em;background-color: #f0f8ff;}#sk-container-id-13 input.sk-toggleable__control:checked~div.sk-toggleable__content {max-height: 200px;max-width: 100%;overflow: auto;}#sk-container-id-13 input.sk-toggleable__control:checked~label.sk-toggleable__label-arrow:before {content: \"▾\";}#sk-container-id-13 div.sk-estimator input.sk-toggleable__control:checked~label.sk-toggleable__label {background-color: #d4ebff;}#sk-container-id-13 div.sk-label input.sk-toggleable__control:checked~label.sk-toggleable__label {background-color: #d4ebff;}#sk-container-id-13 input.sk-hidden--visually {border: 0;clip: rect(1px 1px 1px 1px);clip: rect(1px, 1px, 1px, 1px);height: 1px;margin: -1px;overflow: hidden;padding: 0;position: absolute;width: 1px;}#sk-container-id-13 div.sk-estimator {font-family: monospace;background-color: #f0f8ff;border: 1px dotted black;border-radius: 0.25em;box-sizing: border-box;margin-bottom: 0.5em;}#sk-container-id-13 div.sk-estimator:hover {background-color: #d4ebff;}#sk-container-id-13 div.sk-parallel-item::after {content: \"\";width: 100%;border-bottom: 1px solid gray;flex-grow: 1;}#sk-container-id-13 div.sk-label:hover label.sk-toggleable__label {background-color: #d4ebff;}#sk-container-id-13 div.sk-serial::before {content: \"\";position: absolute;border-left: 1px solid gray;box-sizing: border-box;top: 0;bottom: 0;left: 50%;z-index: 0;}#sk-container-id-13 div.sk-serial {display: flex;flex-direction: column;align-items: center;background-color: white;padding-right: 0.2em;padding-left: 0.2em;position: relative;}#sk-container-id-13 div.sk-item {position: relative;z-index: 1;}#sk-container-id-13 div.sk-parallel {display: flex;align-items: stretch;justify-content: center;background-color: white;position: relative;}#sk-container-id-13 div.sk-item::before, #sk-container-id-13 div.sk-parallel-item::before {content: \"\";position: absolute;border-left: 1px solid gray;box-sizing: border-box;top: 0;bottom: 0;left: 50%;z-index: -1;}#sk-container-id-13 div.sk-parallel-item {display: flex;flex-direction: column;z-index: 1;position: relative;background-color: white;}#sk-container-id-13 div.sk-parallel-item:first-child::after {align-self: flex-end;width: 50%;}#sk-container-id-13 div.sk-parallel-item:last-child::after {align-self: flex-start;width: 50%;}#sk-container-id-13 div.sk-parallel-item:only-child::after {width: 0;}#sk-container-id-13 div.sk-dashed-wrapped {border: 1px dashed gray;margin: 0 0.4em 0.5em 0.4em;box-sizing: border-box;padding-bottom: 0.4em;background-color: white;}#sk-container-id-13 div.sk-label label {font-family: monospace;font-weight: bold;display: inline-block;line-height: 1.2em;}#sk-container-id-13 div.sk-label-container {text-align: center;}#sk-container-id-13 div.sk-container {/* jupyter's `normalize.less` sets `[hidden] { display: none; }` but bootstrap.min.css set `[hidden] { display: none !important; }` so we also need the `!important` here to be able to override the default hidden behavior on the sphinx rendered scikit-learn.org. See: https://github.com/scikit-learn/scikit-learn/issues/21755 */display: inline-block !important;position: relative;}#sk-container-id-13 div.sk-text-repr-fallback {display: none;}</style><div id=\"sk-container-id-13\" class=\"sk-top-container\"><div class=\"sk-text-repr-fallback\"><pre>KNeighborsClassifier(n_neighbors=10, p=1, weights=&#x27;distance&#x27;)</pre><b>In a Jupyter environment, please rerun this cell to show the HTML representation or trust the notebook. <br />On GitHub, the HTML representation is unable to render, please try loading this page with nbviewer.org.</b></div><div class=\"sk-container\" hidden><div class=\"sk-item\"><div class=\"sk-estimator sk-toggleable\"><input class=\"sk-toggleable__control sk-hidden--visually\" id=\"sk-estimator-id-21\" type=\"checkbox\" checked><label for=\"sk-estimator-id-21\" class=\"sk-toggleable__label sk-toggleable__label-arrow\">KNeighborsClassifier</label><div class=\"sk-toggleable__content\"><pre>KNeighborsClassifier(n_neighbors=10, p=1, weights=&#x27;distance&#x27;)</pre></div></div></div></div></div>"
      ],
      "text/plain": [
       "KNeighborsClassifier(n_neighbors=10, p=1, weights='distance')"
      ]
     },
     "execution_count": 135,
     "metadata": {},
     "output_type": "execute_result"
    }
   ],
   "source": [
    "# Fit final KNeighborsClassifier model using the best parameters found\n",
    "best_knn_classifier = KNeighborsClassifier(\n",
    "    n_neighbors=best_n_neighbors_value,  # best n_neighbors from grid search\n",
    "    weights=best_weights_value,  # best weights from grid search\n",
    "    p=best_p_value  # best p from grid search\n",
    ")\n",
    "\n",
    "best_knn_classifier.fit(x_train_encoded, y_train)  # Train the model"
   ]
  },
  {
   "cell_type": "code",
   "execution_count": 136,
   "id": "e8020b29",
   "metadata": {},
   "outputs": [
    {
     "name": "stdout",
     "output_type": "stream",
     "text": [
      "Accuracy: 1.000\n",
      "Precision: 1.000\n",
      "Recall: 1.000\n",
      "F1-Score: 1.000\n",
      "\n",
      "Confusion Matrix:\n",
      "[[13268     0]\n",
      " [    0 15532]]\n"
     ]
    }
   ],
   "source": [
    "# Model evaluation\n",
    "y_knn_pred_train = best_knn_classifier.predict(x_train_encoded)\n",
    "\n",
    "# Evaluate model\n",
    "classification_model_evaluation(y_train, y_knn_pred_train)"
   ]
  },
  {
   "cell_type": "code",
   "execution_count": 1,
   "id": "b45b1b81",
   "metadata": {},
   "outputs": [],
   "source": [
    "#############################################################\n",
    "##  GaussianNB  ##\n",
    "#############################################################"
   ]
  },
  {
   "cell_type": "code",
   "execution_count": 28,
   "id": "8184d32a",
   "metadata": {},
   "outputs": [],
   "source": [
    "# Step 1: Define hyperparameter grid for GaussianNB\n",
    "var_smoothing_values = [1e-9, 1e-8, 1e-7, 1e-6, 1e-5]  # Range of values for var_smoothing\n",
    "\n",
    "# Step 2: Create the parameter grid\n",
    "gnb_param_grid = {\n",
    "    'var_smoothing': var_smoothing_values\n",
    "}\n",
    "\n",
    "# Step 3: Set up the classifier\n",
    "gnb_classifier = GaussianNB()\n",
    "\n",
    "# Step 4: Build the GridSearchCV model\n",
    "gnb_grid_search = GridSearchCV(\n",
    "    estimator=gnb_classifier,\n",
    "    param_grid=gnb_param_grid,\n",
    "    cv=5,  # 5-fold cross-validation\n",
    "    scoring='accuracy',  # Use accuracy as the scoring metric\n",
    "    n_jobs=-3,  # Use all available cores minus 2\n",
    "    verbose=1  # Output progress\n",
    ")"
   ]
  },
  {
   "cell_type": "code",
   "execution_count": 29,
   "id": "fbb1e618",
   "metadata": {},
   "outputs": [
    {
     "name": "stdout",
     "output_type": "stream",
     "text": [
      "Fitting 5 folds for each of 5 candidates, totalling 25 fits\n"
     ]
    },
    {
     "data": {
      "text/html": [
       "<style>#sk-container-id-1 {color: black;background-color: white;}#sk-container-id-1 pre{padding: 0;}#sk-container-id-1 div.sk-toggleable {background-color: white;}#sk-container-id-1 label.sk-toggleable__label {cursor: pointer;display: block;width: 100%;margin-bottom: 0;padding: 0.3em;box-sizing: border-box;text-align: center;}#sk-container-id-1 label.sk-toggleable__label-arrow:before {content: \"▸\";float: left;margin-right: 0.25em;color: #696969;}#sk-container-id-1 label.sk-toggleable__label-arrow:hover:before {color: black;}#sk-container-id-1 div.sk-estimator:hover label.sk-toggleable__label-arrow:before {color: black;}#sk-container-id-1 div.sk-toggleable__content {max-height: 0;max-width: 0;overflow: hidden;text-align: left;background-color: #f0f8ff;}#sk-container-id-1 div.sk-toggleable__content pre {margin: 0.2em;color: black;border-radius: 0.25em;background-color: #f0f8ff;}#sk-container-id-1 input.sk-toggleable__control:checked~div.sk-toggleable__content {max-height: 200px;max-width: 100%;overflow: auto;}#sk-container-id-1 input.sk-toggleable__control:checked~label.sk-toggleable__label-arrow:before {content: \"▾\";}#sk-container-id-1 div.sk-estimator input.sk-toggleable__control:checked~label.sk-toggleable__label {background-color: #d4ebff;}#sk-container-id-1 div.sk-label input.sk-toggleable__control:checked~label.sk-toggleable__label {background-color: #d4ebff;}#sk-container-id-1 input.sk-hidden--visually {border: 0;clip: rect(1px 1px 1px 1px);clip: rect(1px, 1px, 1px, 1px);height: 1px;margin: -1px;overflow: hidden;padding: 0;position: absolute;width: 1px;}#sk-container-id-1 div.sk-estimator {font-family: monospace;background-color: #f0f8ff;border: 1px dotted black;border-radius: 0.25em;box-sizing: border-box;margin-bottom: 0.5em;}#sk-container-id-1 div.sk-estimator:hover {background-color: #d4ebff;}#sk-container-id-1 div.sk-parallel-item::after {content: \"\";width: 100%;border-bottom: 1px solid gray;flex-grow: 1;}#sk-container-id-1 div.sk-label:hover label.sk-toggleable__label {background-color: #d4ebff;}#sk-container-id-1 div.sk-serial::before {content: \"\";position: absolute;border-left: 1px solid gray;box-sizing: border-box;top: 0;bottom: 0;left: 50%;z-index: 0;}#sk-container-id-1 div.sk-serial {display: flex;flex-direction: column;align-items: center;background-color: white;padding-right: 0.2em;padding-left: 0.2em;position: relative;}#sk-container-id-1 div.sk-item {position: relative;z-index: 1;}#sk-container-id-1 div.sk-parallel {display: flex;align-items: stretch;justify-content: center;background-color: white;position: relative;}#sk-container-id-1 div.sk-item::before, #sk-container-id-1 div.sk-parallel-item::before {content: \"\";position: absolute;border-left: 1px solid gray;box-sizing: border-box;top: 0;bottom: 0;left: 50%;z-index: -1;}#sk-container-id-1 div.sk-parallel-item {display: flex;flex-direction: column;z-index: 1;position: relative;background-color: white;}#sk-container-id-1 div.sk-parallel-item:first-child::after {align-self: flex-end;width: 50%;}#sk-container-id-1 div.sk-parallel-item:last-child::after {align-self: flex-start;width: 50%;}#sk-container-id-1 div.sk-parallel-item:only-child::after {width: 0;}#sk-container-id-1 div.sk-dashed-wrapped {border: 1px dashed gray;margin: 0 0.4em 0.5em 0.4em;box-sizing: border-box;padding-bottom: 0.4em;background-color: white;}#sk-container-id-1 div.sk-label label {font-family: monospace;font-weight: bold;display: inline-block;line-height: 1.2em;}#sk-container-id-1 div.sk-label-container {text-align: center;}#sk-container-id-1 div.sk-container {/* jupyter's `normalize.less` sets `[hidden] { display: none; }` but bootstrap.min.css set `[hidden] { display: none !important; }` so we also need the `!important` here to be able to override the default hidden behavior on the sphinx rendered scikit-learn.org. See: https://github.com/scikit-learn/scikit-learn/issues/21755 */display: inline-block !important;position: relative;}#sk-container-id-1 div.sk-text-repr-fallback {display: none;}</style><div id=\"sk-container-id-1\" class=\"sk-top-container\"><div class=\"sk-text-repr-fallback\"><pre>GridSearchCV(cv=5, estimator=GaussianNB(), n_jobs=-3,\n",
       "             param_grid={&#x27;var_smoothing&#x27;: [1e-09, 1e-08, 1e-07, 1e-06, 1e-05]},\n",
       "             scoring=&#x27;accuracy&#x27;, verbose=1)</pre><b>In a Jupyter environment, please rerun this cell to show the HTML representation or trust the notebook. <br />On GitHub, the HTML representation is unable to render, please try loading this page with nbviewer.org.</b></div><div class=\"sk-container\" hidden><div class=\"sk-item sk-dashed-wrapped\"><div class=\"sk-label-container\"><div class=\"sk-label sk-toggleable\"><input class=\"sk-toggleable__control sk-hidden--visually\" id=\"sk-estimator-id-1\" type=\"checkbox\" ><label for=\"sk-estimator-id-1\" class=\"sk-toggleable__label sk-toggleable__label-arrow\">GridSearchCV</label><div class=\"sk-toggleable__content\"><pre>GridSearchCV(cv=5, estimator=GaussianNB(), n_jobs=-3,\n",
       "             param_grid={&#x27;var_smoothing&#x27;: [1e-09, 1e-08, 1e-07, 1e-06, 1e-05]},\n",
       "             scoring=&#x27;accuracy&#x27;, verbose=1)</pre></div></div></div><div class=\"sk-parallel\"><div class=\"sk-parallel-item\"><div class=\"sk-item\"><div class=\"sk-label-container\"><div class=\"sk-label sk-toggleable\"><input class=\"sk-toggleable__control sk-hidden--visually\" id=\"sk-estimator-id-2\" type=\"checkbox\" ><label for=\"sk-estimator-id-2\" class=\"sk-toggleable__label sk-toggleable__label-arrow\">estimator: GaussianNB</label><div class=\"sk-toggleable__content\"><pre>GaussianNB()</pre></div></div></div><div class=\"sk-serial\"><div class=\"sk-item\"><div class=\"sk-estimator sk-toggleable\"><input class=\"sk-toggleable__control sk-hidden--visually\" id=\"sk-estimator-id-3\" type=\"checkbox\" ><label for=\"sk-estimator-id-3\" class=\"sk-toggleable__label sk-toggleable__label-arrow\">GaussianNB</label><div class=\"sk-toggleable__content\"><pre>GaussianNB()</pre></div></div></div></div></div></div></div></div></div></div>"
      ],
      "text/plain": [
       "GridSearchCV(cv=5, estimator=GaussianNB(), n_jobs=-3,\n",
       "             param_grid={'var_smoothing': [1e-09, 1e-08, 1e-07, 1e-06, 1e-05]},\n",
       "             scoring='accuracy', verbose=1)"
      ]
     },
     "execution_count": 29,
     "metadata": {},
     "output_type": "execute_result"
    }
   ],
   "source": [
    "# Step 5: Fit the grid search\n",
    "gnb_grid_search.fit(x_train_encoded, y_train)"
   ]
  },
  {
   "cell_type": "code",
   "execution_count": 30,
   "id": "35f01673",
   "metadata": {},
   "outputs": [
    {
     "data": {
      "image/png": "[encoded data removed]",
      "text/plain": [
       "<Figure size 1000x600 with 1 Axes>"
      ]
     },
     "metadata": {},
     "output_type": "display_data"
    }
   ],
   "source": [
    "# Extract results from GridSearchCV for GaussianNB\n",
    "gnb_results = pd.DataFrame(gnb_grid_search.cv_results_)\n",
    "\n",
    "# Plot performance for different 'var_smoothing' values\n",
    "plt.figure(figsize=(10, 6))\n",
    "\n",
    "# Loop over var_smoothing values\n",
    "for smoothing in var_smoothing_values:\n",
    "    subset = gnb_results[gnb_results['param_var_smoothing'] == smoothing]\n",
    "    plt.plot(\n",
    "        subset['param_var_smoothing'],  # Plot for different var_smoothing values\n",
    "        subset['mean_test_score'],  # Accuracy values are stored in 'mean_test_score'\n",
    "        marker='o',\n",
    "        label=f'var_smoothing: {smoothing}'\n",
    "    )\n",
    "\n",
    "# Customize the plot\n",
    "plt.xscale('log')  # Log scale for var_smoothing values\n",
    "plt.xlabel('var_smoothing')\n",
    "plt.ylabel('Mean Test Score (Accuracy)')\n",
    "plt.title('Gaussian Naive Bayes: Performance vs. var_smoothing')\n",
    "plt.legend(title='var_smoothing')\n",
    "plt.grid(True)\n",
    "plt.show()"
   ]
  },
  {
   "cell_type": "code",
   "execution_count": 31,
   "id": "579b0feb",
   "metadata": {},
   "outputs": [
    {
     "name": "stdout",
     "output_type": "stream",
     "text": [
      "Best var_smoothing: 1e-09\n"
     ]
    }
   ],
   "source": [
    "# Step 6: Get the best parameter for GaussianNB\n",
    "best_var_smoothing_value = gnb_grid_search.best_params_['var_smoothing']\n",
    "\n",
    "# Print the best values\n",
    "print(f\"Best var_smoothing: {best_var_smoothing_value}\")"
   ]
  },
  {
   "cell_type": "code",
   "execution_count": 32,
   "id": "4d44f2a6",
   "metadata": {},
   "outputs": [
    {
     "data": {
      "text/html": [
       "<style>#sk-container-id-2 {color: black;background-color: white;}#sk-container-id-2 pre{padding: 0;}#sk-container-id-2 div.sk-toggleable {background-color: white;}#sk-container-id-2 label.sk-toggleable__label {cursor: pointer;display: block;width: 100%;margin-bottom: 0;padding: 0.3em;box-sizing: border-box;text-align: center;}#sk-container-id-2 label.sk-toggleable__label-arrow:before {content: \"▸\";float: left;margin-right: 0.25em;color: #696969;}#sk-container-id-2 label.sk-toggleable__label-arrow:hover:before {color: black;}#sk-container-id-2 div.sk-estimator:hover label.sk-toggleable__label-arrow:before {color: black;}#sk-container-id-2 div.sk-toggleable__content {max-height: 0;max-width: 0;overflow: hidden;text-align: left;background-color: #f0f8ff;}#sk-container-id-2 div.sk-toggleable__content pre {margin: 0.2em;color: black;border-radius: 0.25em;background-color: #f0f8ff;}#sk-container-id-2 input.sk-toggleable__control:checked~div.sk-toggleable__content {max-height: 200px;max-width: 100%;overflow: auto;}#sk-container-id-2 input.sk-toggleable__control:checked~label.sk-toggleable__label-arrow:before {content: \"▾\";}#sk-container-id-2 div.sk-estimator input.sk-toggleable__control:checked~label.sk-toggleable__label {background-color: #d4ebff;}#sk-container-id-2 div.sk-label input.sk-toggleable__control:checked~label.sk-toggleable__label {background-color: #d4ebff;}#sk-container-id-2 input.sk-hidden--visually {border: 0;clip: rect(1px 1px 1px 1px);clip: rect(1px, 1px, 1px, 1px);height: 1px;margin: -1px;overflow: hidden;padding: 0;position: absolute;width: 1px;}#sk-container-id-2 div.sk-estimator {font-family: monospace;background-color: #f0f8ff;border: 1px dotted black;border-radius: 0.25em;box-sizing: border-box;margin-bottom: 0.5em;}#sk-container-id-2 div.sk-estimator:hover {background-color: #d4ebff;}#sk-container-id-2 div.sk-parallel-item::after {content: \"\";width: 100%;border-bottom: 1px solid gray;flex-grow: 1;}#sk-container-id-2 div.sk-label:hover label.sk-toggleable__label {background-color: #d4ebff;}#sk-container-id-2 div.sk-serial::before {content: \"\";position: absolute;border-left: 1px solid gray;box-sizing: border-box;top: 0;bottom: 0;left: 50%;z-index: 0;}#sk-container-id-2 div.sk-serial {display: flex;flex-direction: column;align-items: center;background-color: white;padding-right: 0.2em;padding-left: 0.2em;position: relative;}#sk-container-id-2 div.sk-item {position: relative;z-index: 1;}#sk-container-id-2 div.sk-parallel {display: flex;align-items: stretch;justify-content: center;background-color: white;position: relative;}#sk-container-id-2 div.sk-item::before, #sk-container-id-2 div.sk-parallel-item::before {content: \"\";position: absolute;border-left: 1px solid gray;box-sizing: border-box;top: 0;bottom: 0;left: 50%;z-index: -1;}#sk-container-id-2 div.sk-parallel-item {display: flex;flex-direction: column;z-index: 1;position: relative;background-color: white;}#sk-container-id-2 div.sk-parallel-item:first-child::after {align-self: flex-end;width: 50%;}#sk-container-id-2 div.sk-parallel-item:last-child::after {align-self: flex-start;width: 50%;}#sk-container-id-2 div.sk-parallel-item:only-child::after {width: 0;}#sk-container-id-2 div.sk-dashed-wrapped {border: 1px dashed gray;margin: 0 0.4em 0.5em 0.4em;box-sizing: border-box;padding-bottom: 0.4em;background-color: white;}#sk-container-id-2 div.sk-label label {font-family: monospace;font-weight: bold;display: inline-block;line-height: 1.2em;}#sk-container-id-2 div.sk-label-container {text-align: center;}#sk-container-id-2 div.sk-container {/* jupyter's `normalize.less` sets `[hidden] { display: none; }` but bootstrap.min.css set `[hidden] { display: none !important; }` so we also need the `!important` here to be able to override the default hidden behavior on the sphinx rendered scikit-learn.org. See: https://github.com/scikit-learn/scikit-learn/issues/21755 */display: inline-block !important;position: relative;}#sk-container-id-2 div.sk-text-repr-fallback {display: none;}</style><div id=\"sk-container-id-2\" class=\"sk-top-container\"><div class=\"sk-text-repr-fallback\"><pre>GaussianNB()</pre><b>In a Jupyter environment, please rerun this cell to show the HTML representation or trust the notebook. <br />On GitHub, the HTML representation is unable to render, please try loading this page with nbviewer.org.</b></div><div class=\"sk-container\" hidden><div class=\"sk-item\"><div class=\"sk-estimator sk-toggleable\"><input class=\"sk-toggleable__control sk-hidden--visually\" id=\"sk-estimator-id-4\" type=\"checkbox\" checked><label for=\"sk-estimator-id-4\" class=\"sk-toggleable__label sk-toggleable__label-arrow\">GaussianNB</label><div class=\"sk-toggleable__content\"><pre>GaussianNB()</pre></div></div></div></div></div>"
      ],
      "text/plain": [
       "GaussianNB()"
      ]
     },
     "execution_count": 32,
     "metadata": {},
     "output_type": "execute_result"
    }
   ],
   "source": [
    "# Step 7: Fit the final GaussianNB model using the best parameter found\n",
    "best_gnb_classifier = GaussianNB(\n",
    "    var_smoothing=best_var_smoothing_value  # best var_smoothing from grid search\n",
    ")\n",
    "\n",
    "best_gnb_classifier.fit(x_train_encoded, y_train)  # Train the model"
   ]
  },
  {
   "cell_type": "code",
   "execution_count": 33,
   "id": "f226e03f",
   "metadata": {},
   "outputs": [
    {
     "name": "stdout",
     "output_type": "stream",
     "text": [
      "Accuracy: 0.648\n",
      "Precision: 0.656\n",
      "Recall: 0.732\n",
      "F1-Score: 0.692\n",
      "\n",
      "Confusion Matrix:\n",
      "[[ 7296  5972]\n",
      " [ 4155 11377]]\n"
     ]
    }
   ],
   "source": [
    "# Step 8: Model evaluation\n",
    "y_gnb_pred_train = best_gnb_classifier.predict(x_train_encoded)\n",
    "\n",
    "# Evaluate model\n",
    "classification_model_evaluation(y_train, y_gnb_pred_train)"
   ]
  },
  {
   "cell_type": "code",
   "execution_count": null,
   "id": "d72a2c74",
   "metadata": {},
   "outputs": [],
   "source": [
    "#############################################################\n",
    "##  DecisionTreeClassifier  ##\n",
    "#############################################################"
   ]
  },
  {
   "cell_type": "code",
   "execution_count": null,
   "id": "3e35f630",
   "metadata": {},
   "outputs": [],
   "source": [
    "# Step 1: Define hyperparameter grid for DecisionTreeClassifier\n",
    "max_depth_values = [None, 10, 20, 30]  # Maximum depth of the tree\n",
    "min_samples_split_values = [2, 5, 10]  # Minimum number of samples required to split an internal node\n",
    "min_samples_leaf_values = [1, 2, 4]  # Minimum number of samples required to be at a leaf node\n",
    "max_features_values = ['auto', 'sqrt', 'log2', None]  # Number of features to consider at each split\n",
    "criterion_values = ['gini', 'entropy']  # Function to measure the quality of a split\n",
    "\n",
    "# Step 2: Create the parameter grid\n",
    "dt_param_grid = {\n",
    "    'max_depth': max_depth_values,\n",
    "    'min_samples_split': min_samples_split_values,\n",
    "    'min_samples_leaf': min_samples_leaf_values,\n",
    "    'max_features': max_features_values,\n",
    "    'criterion': criterion_values\n",
    "}\n",
    "\n",
    "# Step 3: Set up the classifier\n",
    "dt_classifier = DecisionTreeClassifier()\n",
    "\n",
    "# Step 4: Build the GridSearchCV model\n",
    "dt_grid_search = GridSearchCV(\n",
    "    estimator=dt_classifier,\n",
    "    param_grid=dt_param_grid,\n",
    "    cv=5,  # 5-fold cross-validation\n",
    "    scoring='accuracy',  # Use accuracy as the scoring metric\n",
    "    n_jobs=-3,  # Use all available cores minus 2\n",
    "    verbose=1  # Output progress\n",
    ")"
   ]
  },
  {
   "cell_type": "code",
   "execution_count": null,
   "id": "65980617",
   "metadata": {},
   "outputs": [],
   "source": [
    "# Step 5: Fit the grid search\n",
    "dt_grid_search.fit(x_train_encoded, y_train)"
   ]
  },
  {
   "cell_type": "code",
   "execution_count": null,
   "id": "c5c725bb",
   "metadata": {},
   "outputs": [],
   "source": [
    "# Extract results from GridSearchCV for DecisionTreeClassifier\n",
    "dt_results = pd.DataFrame(dt_grid_search.cv_results_)\n",
    "\n",
    "# Plot performance for different 'max_depth' values grouped by 'criterion'\n",
    "plt.figure(figsize=(10, 6))\n",
    "\n",
    "# Loop over criterion values\n",
    "for criterion in criterion_values:\n",
    "    subset = dt_results[dt_results['param_criterion'] == criterion]\n",
    "    plt.plot(\n",
    "        subset['param_max_depth'],  # Plot for different max_depth values\n",
    "        subset['mean_test_score'],  # Accuracy values are stored in 'mean_test_score'\n",
    "        marker='o',\n",
    "        label=f'Criterion: {criterion}'\n",
    "    )\n",
    "\n",
    "# Customize the plot\n",
    "plt.xlabel('Max Depth')\n",
    "plt.ylabel('Mean Test Score (Accuracy)')\n",
    "plt.title('Decision Tree Classifier: Performance vs. Max Depth')\n",
    "plt.legend(title='Criterion')\n",
    "plt.grid(True)\n",
    "plt.show()"
   ]
  },
  {
   "cell_type": "code",
   "execution_count": null,
   "id": "4c42145c",
   "metadata": {},
   "outputs": [],
   "source": [
    "# Step 6: Get the best parameters for DecisionTreeClassifier\n",
    "best_max_depth_value = dt_grid_search.best_params_['max_depth']\n",
    "best_min_samples_split_value = dt_grid_search.best_params_['min_samples_split']\n",
    "best_min_samples_leaf_value = dt_grid_search.best_params_['min_samples_leaf']\n",
    "best_max_features_value = dt_grid_search.best_params_['max_features']\n",
    "best_criterion_value = dt_grid_search.best_params_['criterion']\n",
    "\n",
    "# Print the best values\n",
    "print(f\"Best Max Depth: {best_max_depth_value}\")\n",
    "print(f\"Best Min Samples Split: {best_min_samples_split_value}\")\n",
    "print(f\"Best Min Samples Leaf: {best_min_samples_leaf_value}\")\n",
    "print(f\"Best Max Features: {best_max_features_value}\")\n",
    "print(f\"Best Criterion: {best_criterion_value}\")"
   ]
  },
  {
   "cell_type": "code",
   "execution_count": null,
   "id": "f31f2bde",
   "metadata": {},
   "outputs": [],
   "source": [
    "# Step 7: Fit the final DecisionTreeClassifier model using the best parameters found\n",
    "best_dt_classifier = DecisionTreeClassifier(\n",
    "    max_depth=best_max_depth_value,  # best max_depth from grid search\n",
    "    min_samples_split=best_min_samples_split_value,  # best min_samples_split from grid search\n",
    "    min_samples_leaf=best_min_samples_leaf_value,  # best min_samples_leaf from grid search\n",
    "    max_features=best_max_features_value,  # best max_features from grid search\n",
    "    criterion=best_criterion_value  # best criterion from grid search\n",
    ")\n",
    "\n",
    "best_dt_classifier.fit(x_train_encoded, y_train)  # Train the model"
   ]
  },
  {
   "cell_type": "code",
   "execution_count": null,
   "id": "e1e73e93",
   "metadata": {},
   "outputs": [],
   "source": [
    "# Step 8: Model evaluation\n",
    "y_dt_pred_train = best_dt_classifier.predict(x_train_encoded)\n",
    "\n",
    "# Evaluate model\n",
    "classification_model_evaluation(y_train, y_dt_pred_train)"
   ]
  },
  {
   "cell_type": "code",
   "execution_count": null,
   "id": "e283575e",
   "metadata": {},
   "outputs": [],
   "source": [
    "#############################################################\n",
    "##  RandomForestClassifier  ##\n",
    "#############################################################"
   ]
  },
  {
   "cell_type": "code",
   "execution_count": null,
   "id": "3e1d0a50",
   "metadata": {},
   "outputs": [],
   "source": [
    "# Step 1: Define hyperparameter grid for RandomForestClassifier\n",
    "n_estimators_values = [50, 100, 200]  # Number of trees in the forest\n",
    "max_depth_values = [None, 10, 20, 30]  # Maximum depth of each tree\n",
    "min_samples_split_values = [2, 5, 10]  # Minimum samples required to split an internal node\n",
    "min_samples_leaf_values = [1, 2, 4]  # Minimum samples required to be at a leaf node\n",
    "max_features_values = ['auto', 'sqrt', 'log2']  # Number of features to consider for the best split\n",
    "\n",
    "# Step 2: Create the parameter grid\n",
    "rf_param_grid = {\n",
    "    'n_estimators': n_estimators_values,\n",
    "    'max_depth': max_depth_values,\n",
    "    'min_samples_split': min_samples_split_values,\n",
    "    'min_samples_leaf': min_samples_leaf_values,\n",
    "    'max_features': max_features_values\n",
    "}\n",
    "\n",
    "# Step 3: Set up the classifier\n",
    "rf_classifier = RandomForestClassifier()\n",
    "\n",
    "# Step 4: Build the GridSearchCV model\n",
    "rf_grid_search = GridSearchCV(\n",
    "    estimator=rf_classifier,\n",
    "    param_grid=rf_param_grid,\n",
    "    cv=5,  # 5-fold cross-validation\n",
    "    scoring='accuracy',  # Use accuracy as the scoring metric\n",
    "    n_jobs=-3,  # Use all available cores minus 2\n",
    "    verbose=1  # Output progress\n",
    ")"
   ]
  },
  {
   "cell_type": "code",
   "execution_count": null,
   "id": "8be211cb",
   "metadata": {},
   "outputs": [],
   "source": [
    "# Step 5: Fit the grid search\n",
    "rf_grid_search.fit(x_train_encoded, y_train)"
   ]
  },
  {
   "cell_type": "code",
   "execution_count": null,
   "id": "ffca12e7",
   "metadata": {},
   "outputs": [],
   "source": [
    "# Extract results from GridSearchCV for RandomForestClassifier\n",
    "rf_results = pd.DataFrame(rf_grid_search.cv_results_)\n",
    "\n",
    "# Plot performance for different 'n_estimators' values grouped by 'max_depth'\n",
    "plt.figure(figsize=(10, 6))\n",
    "\n",
    "# Loop over 'max_depth' values\n",
    "for max_depth in max_depth_values:\n",
    "    subset = rf_results[rf_results['param_max_depth'] == max_depth]\n",
    "    plt.plot(\n",
    "        subset['param_n_estimators'],  # Plot for different 'n_estimators' values\n",
    "        subset['mean_test_score'],  # Accuracy values are stored in 'mean_test_score'\n",
    "        marker='o',\n",
    "        label=f'Max Depth: {max_depth}'\n",
    "    )\n",
    "\n",
    "# Customize the plot\n",
    "plt.xlabel('Number of Estimators (n_estimators)')\n",
    "plt.ylabel('Mean Test Score (Accuracy)')\n",
    "plt.title('Random Forest Classifier: Performance vs. Number of Estimators')\n",
    "plt.legend(title='Max Depth')\n",
    "plt.grid(True)\n",
    "plt.show()"
   ]
  },
  {
   "cell_type": "code",
   "execution_count": null,
   "id": "b3e9cfbc",
   "metadata": {},
   "outputs": [],
   "source": [
    "# Step 6: Get the best parameters for RandomForestClassifier\n",
    "best_n_estimators_value = rf_grid_search.best_params_['n_estimators']\n",
    "best_max_depth_value = rf_grid_search.best_params_['max_depth']\n",
    "best_min_samples_split_value = rf_grid_search.best_params_['min_samples_split']\n",
    "best_min_samples_leaf_value = rf_grid_search.best_params_['min_samples_leaf']\n",
    "best_max_features_value = rf_grid_search.best_params_['max_features']\n",
    "\n",
    "# Print the best values\n",
    "print(f\"Best n_estimators: {best_n_estimators_value}\")\n",
    "print(f\"Best max_depth: {best_max_depth_value}\")\n",
    "print(f\"Best min_samples_split: {best_min_samples_split_value}\")\n",
    "print(f\"Best min_samples_leaf: {best_min_samples_leaf_value}\")\n",
    "print(f\"Best max_features: {best_max_features_value}\")"
   ]
  },
  {
   "cell_type": "code",
   "execution_count": null,
   "id": "332440be",
   "metadata": {},
   "outputs": [],
   "source": [
    "# Step 7: Fit the final RandomForestClassifier model using the best parameters found\n",
    "best_rf_classifier = RandomForestClassifier(\n",
    "    n_estimators=best_n_estimators_value,  # best n_estimators from grid search\n",
    "    max_depth=best_max_depth_value,  # best max_depth from grid search\n",
    "    min_samples_split=best_min_samples_split_value,  # best min_samples_split from grid search\n",
    "    min_samples_leaf=best_min_samples_leaf_value,  # best min_samples_leaf from grid search\n",
    "    max_features=best_max_features_value  # best max_features from grid search\n",
    ")\n",
    "\n",
    "best_rf_classifier.fit(x_train_encoded, y_train)  # Train the model"
   ]
  },
  {
   "cell_type": "code",
   "execution_count": null,
   "id": "5b8b0936",
   "metadata": {},
   "outputs": [],
   "source": [
    "# Step 8: Model evaluation\n",
    "y_rf_pred_train = best_rf_classifier.predict(x_train_encoded)\n",
    "\n",
    "# Evaluate model\n",
    "classification_model_evaluation(y_train, y_rf_pred_train)"
   ]
  },
  {
   "cell_type": "code",
   "execution_count": null,
   "id": "4b18cd43",
   "metadata": {},
   "outputs": [],
   "source": [
    "#############################################################\n",
    "## RandomForestClassifier  ##\n",
    "#############################################################"
   ]
  },
  {
   "cell_type": "code",
   "execution_count": null,
   "id": "d69c786d",
   "metadata": {},
   "outputs": [],
   "source": [
    "'''\n",
    "# Step 1: Define hyperparameter grid for RandomForestClassifier\n",
    "n_estimators_values = [50, 100, 200]  # Number of trees in the forest\n",
    "max_depth_values = [None, 10, 20, 30]  # Maximum depth of each tree\n",
    "min_samples_split_values = [2, 5, 10]  # Minimum samples required to split an internal node\n",
    "min_samples_leaf_values = [1, 2, 4]  # Minimum samples required to be at a leaf node\n",
    "max_features_values = ['auto', 'sqrt', 'log2']  # Number of features to consider for the best split\n",
    "\n",
    "# Step 2: Create the parameter grid\n",
    "rf_param_grid = {\n",
    "    'n_estimators': n_estimators_values,\n",
    "    'max_depth': max_depth_values,\n",
    "    'min_samples_split': min_samples_split_values,\n",
    "    'min_samples_leaf': min_samples_leaf_values,\n",
    "    'max_features': max_features_values\n",
    "}\n",
    "\n",
    "# Step 3: Set up the classifier\n",
    "rf_classifier = RandomForestClassifier()\n",
    "\n",
    "# Step 4: Build the GridSearchCV model\n",
    "rf_grid_search = GridSearchCV(\n",
    "    estimator=rf_classifier,\n",
    "    param_grid=rf_param_grid,\n",
    "    cv=5,  # 5-fold cross-validation\n",
    "    scoring='accuracy',  # Use accuracy as the scoring metric\n",
    "    n_jobs=-3,  # Use all available cores minus 2\n",
    "    verbose=1  # Output progress\n",
    ")\n",
    "'''"
   ]
  },
  {
   "cell_type": "code",
   "execution_count": null,
   "id": "755d9cad",
   "metadata": {},
   "outputs": [],
   "source": [
    "'''\n",
    "# Step 5: Fit the grid search\n",
    "rf_grid_search.fit(x_train_encoded, y_train)\n",
    "'''"
   ]
  },
  {
   "cell_type": "code",
   "execution_count": null,
   "id": "30080829",
   "metadata": {},
   "outputs": [],
   "source": [
    "'''\n",
    "# Extract results from GridSearchCV for RandomForestClassifier\n",
    "rf_results = pd.DataFrame(rf_grid_search.cv_results_)\n",
    "\n",
    "# Plot performance for different 'n_estimators' values grouped by 'max_depth'\n",
    "plt.figure(figsize=(10, 6))\n",
    "\n",
    "# Loop over 'max_depth' values\n",
    "for max_depth in max_depth_values:\n",
    "    subset = rf_results[rf_results['param_max_depth'] == max_depth]\n",
    "    plt.plot(\n",
    "        subset['param_n_estimators'],  # Plot for different 'n_estimators' values\n",
    "        subset['mean_test_score'],  # Accuracy values are stored in 'mean_test_score'\n",
    "        marker='o',\n",
    "        label=f'Max Depth: {max_depth}'\n",
    "    )\n",
    "\n",
    "# Customize the plot\n",
    "plt.xlabel('Number of Estimators (n_estimators)')\n",
    "plt.ylabel('Mean Test Score (Accuracy)')\n",
    "plt.title('Random Forest Classifier: Performance vs. Number of Estimators')\n",
    "plt.legend(title='Max Depth')\n",
    "plt.grid(True)\n",
    "plt.show()\n",
    "'''"
   ]
  },
  {
   "cell_type": "code",
   "execution_count": null,
   "id": "f9407871",
   "metadata": {},
   "outputs": [],
   "source": [
    "'''\n",
    "# Step 6: Get the best parameters for RandomForestClassifier\n",
    "best_n_estimators_value = rf_grid_search.best_params_['n_estimators']\n",
    "best_max_depth_value = rf_grid_search.best_params_['max_depth']\n",
    "best_min_samples_split_value = rf_grid_search.best_params_['min_samples_split']\n",
    "best_min_samples_leaf_value = rf_grid_search.best_params_['min_samples_leaf']\n",
    "best_max_features_value = rf_grid_search.best_params_['max_features']\n",
    "\n",
    "# Print the best values\n",
    "print(f\"Best n_estimators: {best_n_estimators_value}\")\n",
    "print(f\"Best max_depth: {best_max_depth_value}\")\n",
    "print(f\"Best min_samples_split: {best_min_samples_split_value}\")\n",
    "print(f\"Best min_samples_leaf: {best_min_samples_leaf_value}\")\n",
    "print(f\"Best max_features: {best_max_features_value}\")\n",
    "'''"
   ]
  },
  {
   "cell_type": "code",
   "execution_count": null,
   "id": "f088cfe1",
   "metadata": {},
   "outputs": [],
   "source": [
    "# Step 7: Fit the final RandomForestClassifier model using the best parameters found\n",
    "best_rf_classifier = RandomForestClassifier(\n",
    "    n_estimators=200,  # best n_estimators from grid search\n",
    "    max_depth=30,  # best max_depth from grid search\n",
    "    min_samples_split=10,  # best min_samples_split from grid search\n",
    "    min_samples_leaf=1,  # best min_samples_leaf from grid search\n",
    "    max_features='auto'  # best max_features from grid search\n",
    ")\n",
    "\n",
    "best_rf_classifier.fit(x_train_encoded, y_train)  # Train the model"
   ]
  },
  {
   "cell_type": "code",
   "execution_count": null,
   "id": "2a802b66",
   "metadata": {},
   "outputs": [],
   "source": [
    "# Step 8: Model evaluation\n",
    "y_rf_pred_train = best_rf_classifier.predict(x_train_encoded)\n",
    "\n",
    "# Evaluate model\n",
    "classification_model_evaluation(y_train, y_rf_pred_train)\n",
    "\n",
    "'''\n",
    "Accuracy: 0.960\n",
    "Precision: 0.954\n",
    "Recall: 0.972\n",
    "F1-Score: 0.963\n",
    "\n",
    "Confusion Matrix:\n",
    "[[12541   727]\n",
    " [  438 15094]]\n",
    "'''"
   ]
  },
  {
   "cell_type": "code",
   "execution_count": null,
   "id": "b625acfb",
   "metadata": {},
   "outputs": [],
   "source": [
    "#############################################################\n",
    "## GradientBoostingClassifier  ##\n",
    "#############################################################"
   ]
  },
  {
   "cell_type": "code",
   "execution_count": null,
   "id": "cb553058",
   "metadata": {},
   "outputs": [],
   "source": [
    "'''\n",
    "# Step 1: Define hyperparameter grid for GradientBoostingClassifier\n",
    "n_estimators_values = [50, 100, 200]  # Number of boosting stages to perform\n",
    "learning_rate_values = [0.01, 0.1, 0.5]  # Step size at each boosting stage\n",
    "max_depth_values = [3, 5, 10]  # Maximum depth of individual trees\n",
    "min_samples_split_values = [2, 5, 10]  # Minimum samples required to split an internal node\n",
    "min_samples_leaf_values = [1, 2, 4]  # Minimum samples required to be at a leaf node\n",
    "subsample_values = [0.8, 0.9, 1.0]  # Fraction of samples to be used for fitting each base learner\n",
    "\n",
    "# Step 2: Create the parameter grid\n",
    "gb_param_grid = {\n",
    "    'n_estimators': n_estimators_values,\n",
    "    'learning_rate': learning_rate_values,\n",
    "    'max_depth': max_depth_values,\n",
    "    'min_samples_split': min_samples_split_values,\n",
    "    'min_samples_leaf': min_samples_leaf_values,\n",
    "    'subsample': subsample_values\n",
    "}\n",
    "\n",
    "# Step 3: Set up the classifier\n",
    "gb_classifier = GradientBoostingClassifier()\n",
    "\n",
    "# Step 4: Build the GridSearchCV model\n",
    "gb_grid_search = GridSearchCV(\n",
    "    estimator=gb_classifier,\n",
    "    param_grid=gb_param_grid,\n",
    "    cv=5,  # 5-fold cross-validation\n",
    "    scoring='accuracy',  # Use accuracy as the scoring metric\n",
    "    n_jobs=-3,  # Use all available cores minus 2\n",
    "    verbose=1  # Output progress\n",
    ")\n",
    "'''"
   ]
  },
  {
   "cell_type": "code",
   "execution_count": null,
   "id": "b5bd353f",
   "metadata": {},
   "outputs": [],
   "source": [
    "'''\n",
    "# Step 5: Fit the grid search\n",
    "gb_grid_search.fit(x_train_encoded, y_train)\n",
    "'''"
   ]
  },
  {
   "cell_type": "code",
   "execution_count": null,
   "id": "a911c38d",
   "metadata": {},
   "outputs": [],
   "source": [
    "'''\n",
    "# Extract results from GridSearchCV for GradientBoostingClassifier\n",
    "gb_results = pd.DataFrame(gb_grid_search.cv_results_)\n",
    "\n",
    "# Plot performance for different 'n_estimators' values grouped by 'learning_rate'\n",
    "plt.figure(figsize=(10, 6))\n",
    "\n",
    "# Loop over 'learning_rate' values\n",
    "for learning_rate in learning_rate_values:\n",
    "    subset = gb_results[gb_results['param_learning_rate'] == learning_rate]\n",
    "    plt.plot(\n",
    "        subset['param_n_estimators'],  # Plot for different 'n_estimators' values\n",
    "        subset['mean_test_score'],  # Accuracy values are stored in 'mean_test_score'\n",
    "        marker='o',\n",
    "        label=f'Learning Rate: {learning_rate}'\n",
    "    )\n",
    "\n",
    "# Customize the plot\n",
    "plt.xlabel('Number of Estimators (n_estimators)')\n",
    "plt.ylabel('Mean Test Score (Accuracy)')\n",
    "plt.title('Gradient Boosting Classifier: Performance vs. Number of Estimators')\n",
    "plt.legend(title='Learning Rate')\n",
    "plt.grid(True)\n",
    "plt.show()\n",
    "'''"
   ]
  },
  {
   "cell_type": "code",
   "execution_count": null,
   "id": "c5cd0251",
   "metadata": {},
   "outputs": [],
   "source": [
    "'''\n",
    "# Step 6: Get the best parameters for GradientBoostingClassifier\n",
    "best_n_estimators_value = gb_grid_search.best_params_['n_estimators']\n",
    "best_learning_rate_value = gb_grid_search.best_params_['learning_rate']\n",
    "best_max_depth_value = gb_grid_search.best_params_['max_depth']\n",
    "best_min_samples_split_value = gb_grid_search.best_params_['min_samples_split']\n",
    "best_min_samples_leaf_value = gb_grid_search.best_params_['min_samples_leaf']\n",
    "best_subsample_value = gb_grid_search.best_params_['subsample']\n",
    "\n",
    "# Print the best values\n",
    "print(f\"Best n_estimators: {best_n_estimators_value}\")\n",
    "print(f\"Best learning_rate: {best_learning_rate_value}\")\n",
    "print(f\"Best max_depth: {best_max_depth_value}\")\n",
    "print(f\"Best min_samples_split: {best_min_samples_split_value}\")\n",
    "print(f\"Best min_samples_leaf: {best_min_samples_leaf_value}\")\n",
    "print(f\"Best subsample: {best_subsample_value}\")\n",
    "'''\n",
    "\n",
    "'''\n",
    "Best n_estimators: 50\n",
    "Best learning_rate: 0.1\n",
    "Best max_depth: 3\n",
    "Best min_samples_split: 2\n",
    "Best min_samples_leaf: 1\n",
    "Best subsample: 0.8\n",
    "'''"
   ]
  },
  {
   "cell_type": "code",
   "execution_count": null,
   "id": "84d51fdf",
   "metadata": {},
   "outputs": [],
   "source": [
    "# Step 7: Fit the final GradientBoostingClassifier model using the best parameters found\n",
    "best_gb_classifier = GradientBoostingClassifier(\n",
    "    n_estimators=best_n_estimators_value,  # best n_estimators from grid search\n",
    "    learning_rate=best_learning_rate_value,  # best learning_rate from grid search\n",
    "    max_depth=best_max_depth_value,  # best max_depth from grid search\n",
    "    min_samples_split=best_min_samples_split_value,  # best min_samples_split from grid search\n",
    "    min_samples_leaf=best_min_samples_leaf_value,  # best min_samples_leaf from grid search\n",
    "    subsample=best_subsample_value  # best subsample from grid search\n",
    ")\n",
    "\n",
    "best_gb_classifier.fit(x_train_encoded, y_train)  # Train the model"
   ]
  },
  {
   "cell_type": "code",
   "execution_count": null,
   "id": "59695ff9",
   "metadata": {},
   "outputs": [],
   "source": [
    "# Step 8: Model evaluation\n",
    "y_gb_pred_train = best_gb_classifier.predict(x_train_encoded)\n",
    "\n",
    "# Evaluate model\n",
    "classification_model_evaluation(y_train, y_gb_pred_train)\n",
    "\n",
    "#.682"
   ]
  },
  {
   "cell_type": "code",
   "execution_count": null,
   "id": "5fd11986",
   "metadata": {},
   "outputs": [],
   "source": [
    "#############################################################\n",
    "## AdaBoostClassifier  ##\n",
    "#############################################################"
   ]
  },
  {
   "cell_type": "code",
   "execution_count": null,
   "id": "0c9cf962",
   "metadata": {},
   "outputs": [],
   "source": [
    "'''\n",
    "# Step 1: Define hyperparameter grid for AdaBoostClassifier\n",
    "n_estimators_values = [50, 100, 200]  # Number of weak classifiers\n",
    "learning_rate_values = [0.01, 0.1, 0.5, 1.0]  # Step size at each boosting iteration\n",
    "base_estimator_max_depth_values = [1, 3, 5]  # Depth of the decision tree (base estimator)\n",
    "\n",
    "# Step 2: Create the parameter grid\n",
    "ada_param_grid = {\n",
    "    'n_estimators': n_estimators_values,\n",
    "    'learning_rate': learning_rate_values,\n",
    "    'base_estimator__max_depth': base_estimator_max_depth_values\n",
    "}\n",
    "\n",
    "# Step 3: Set up the classifier with a DecisionTree base estimator\n",
    "base_estimator = DecisionTreeClassifier()\n",
    "ada_classifier = AdaBoostClassifier(base_estimator=base_estimator, random_state=42)\n",
    "\n",
    "# Step 4: Build the GridSearchCV model\n",
    "ada_grid_search = GridSearchCV(\n",
    "    estimator=ada_classifier,\n",
    "    param_grid=ada_param_grid,\n",
    "    cv=5,  # 5-fold cross-validation\n",
    "    scoring='accuracy',  # Use accuracy as the scoring metric\n",
    "    n_jobs=-1,  # Use all available cores\n",
    "    verbose=1  # Output progress\n",
    ")\n",
    "\n",
    "'''"
   ]
  },
  {
   "cell_type": "code",
   "execution_count": null,
   "id": "7ec6d586",
   "metadata": {},
   "outputs": [],
   "source": [
    "'''\n",
    "# Step 5: Fit the grid search\n",
    "ada_grid_search.fit(x_train_encoded, y_train)\n",
    "'''"
   ]
  },
  {
   "cell_type": "code",
   "execution_count": null,
   "id": "6b4ca06f",
   "metadata": {},
   "outputs": [],
   "source": [
    "'''\n",
    "# Extract results from GridSearchCV for AdaBoostClassifier\n",
    "ada_results = pd.DataFrame(ada_grid_search.cv_results_)\n",
    "\n",
    "# Plot performance for different 'n_estimators' values grouped by 'learning_rate'\n",
    "plt.figure(figsize=(10, 6))\n",
    "\n",
    "# Loop over 'learning_rate' values\n",
    "for learning_rate in learning_rate_values:\n",
    "    subset = ada_results[ada_results['param_learning_rate'] == learning_rate]\n",
    "    plt.plot(\n",
    "        subset['param_n_estimators'],  # Plot for different 'n_estimators' values\n",
    "        subset['mean_test_score'],  # Accuracy values are stored in 'mean_test_score'\n",
    "        marker='o',\n",
    "        label=f'Learning Rate: {learning_rate}'\n",
    "    )\n",
    "\n",
    "# Customize the plot\n",
    "plt.xlabel('Number of Estimators (n_estimators)')\n",
    "plt.ylabel('Mean Test Score (Accuracy)')\n",
    "plt.title('AdaBoost Classifier: Performance vs. Number of Estimators')\n",
    "plt.legend(title='Learning Rate')\n",
    "plt.grid(True)\n",
    "plt.show()\n",
    "\n",
    "'''"
   ]
  },
  {
   "cell_type": "code",
   "execution_count": null,
   "id": "ca1ee6c1",
   "metadata": {},
   "outputs": [],
   "source": [
    "'''\n",
    "# Step 6: Get the best parameters for AdaBoostClassifier\n",
    "best_params = ada_grid_search.best_params_\n",
    "print(f\"Best Parameters: {best_params}\")\n",
    "'''\n",
    "\n",
    "'''\n",
    "# Step 6: Get the best parameters for AdaBoostClassifier\n",
    "best_params = ada_grid_search.best_params_\n",
    "print(f\"Best Parameters: {best_params}\")\n",
    "'''"
   ]
  },
  {
   "cell_type": "code",
   "execution_count": null,
   "id": "b9fba065",
   "metadata": {},
   "outputs": [],
   "source": [
    "# Step 7: Fit the final AdaBoostClassifier model using the best parameters found\n",
    "best_ada_classifier = AdaBoostClassifier(\n",
    "    base_estimator=DecisionTreeClassifier(max_depth=best_params['base_estimator__max_depth']),\n",
    "    n_estimators=best_params['n_estimators'],\n",
    "    learning_rate=best_params['learning_rate'],\n",
    "    random_state=42\n",
    ")\n",
    "\n",
    "best_ada_classifier.fit(x_train_encoded, y_train)"
   ]
  },
  {
   "cell_type": "code",
   "execution_count": null,
   "id": "06d7a365",
   "metadata": {},
   "outputs": [],
   "source": [
    "# Step 8: Model evaluation\n",
    "y_ada_pred_train = best_ada_classifier.predict(x_train_encoded)\n",
    "\n",
    "# Evaluate model\n",
    "classification_model_evaluation(y_train, y_ada_pred_train)\n",
    "\n",
    "#.682"
   ]
  },
  {
   "cell_type": "code",
   "execution_count": null,
   "id": "3bf5113c",
   "metadata": {},
   "outputs": [],
   "source": [
    "#############################################################\n",
    "## BaggingClassifier  ##\n",
    "#############################################################"
   ]
  },
  {
   "cell_type": "code",
   "execution_count": null,
   "id": "e2b756e7",
   "metadata": {},
   "outputs": [],
   "source": [
    "'''\n",
    "# Step 1: Define hyperparameter grid for BaggingClassifier\n",
    "n_estimators_values = [10, 50, 100]  # Number of base estimators\n",
    "max_samples_values = [0.5, 0.75, 1.0]  # Fraction of samples to draw for each base estimator\n",
    "max_features_values = [0.5, 0.75, 1.0]  # Fraction of features to draw for each base estimator\n",
    "max_depth_values = [3, 5, 10]  # Maximum depth of the decision tree (base estimator)\n",
    "\n",
    "# Step 2: Create the parameter grid\n",
    "bagging_param_grid = {\n",
    "    'n_estimators': n_estimators_values,\n",
    "    'max_samples': max_samples_values,\n",
    "    'max_features': max_features_values,\n",
    "    'base_estimator__max_depth': max_depth_values\n",
    "}\n",
    "\n",
    "# Step 3: Set up the classifier with a DecisionTree base estimator\n",
    "base_estimator = DecisionTreeClassifier()\n",
    "bagging_classifier = BaggingClassifier(base_estimator=base_estimator, random_state=42)\n",
    "\n",
    "# Step 4: Build the GridSearchCV model\n",
    "bagging_grid_search = GridSearchCV(\n",
    "    estimator=bagging_classifier,\n",
    "    param_grid=bagging_param_grid,\n",
    "    cv=5,  # 5-fold cross-validation\n",
    "    scoring='accuracy',  # Use accuracy as the scoring metric\n",
    "    n_jobs=-1,  # Use all available cores\n",
    "    verbose=1  # Output progress\n",
    ")\n",
    "'''"
   ]
  },
  {
   "cell_type": "code",
   "execution_count": null,
   "id": "ab776825",
   "metadata": {},
   "outputs": [],
   "source": [
    "'''\n",
    "# Step 5: Fit the grid search\n",
    "bagging_grid_search.fit(x_train_encoded, y_train)\n",
    "'''"
   ]
  },
  {
   "cell_type": "code",
   "execution_count": null,
   "id": "1a78cd4d",
   "metadata": {},
   "outputs": [],
   "source": [
    "'''\n",
    "# Extract results from GridSearchCV for BaggingClassifier\n",
    "bagging_results = pd.DataFrame(bagging_grid_search.cv_results_)\n",
    "\n",
    "# Plot performance for different 'n_estimators' values grouped by 'max_samples'\n",
    "plt.figure(figsize=(10, 6))\n",
    "\n",
    "# Loop over 'max_samples' values\n",
    "for max_samples in max_samples_values:\n",
    "    subset = bagging_results[bagging_results['param_max_samples'] == max_samples]\n",
    "    plt.plot(\n",
    "        subset['param_n_estimators'],  # Plot for different 'n_estimators' values\n",
    "        subset['mean_test_score'],  # Accuracy values are stored in 'mean_test_score'\n",
    "        marker='o',\n",
    "        label=f'Max Samples: {max_samples}'\n",
    "    )\n",
    "\n",
    "# Customize the plot\n",
    "plt.xlabel('Number of Estimators (n_estimators)')\n",
    "plt.ylabel('Mean Test Score (Accuracy)')\n",
    "plt.title('Bagging Classifier: Performance vs. Number of Estimators')\n",
    "plt.legend(title='Max Samples')\n",
    "plt.grid(True)\n",
    "plt.show()\n",
    "'''"
   ]
  },
  {
   "cell_type": "code",
   "execution_count": null,
   "id": "a16b76b0",
   "metadata": {},
   "outputs": [],
   "source": [
    "'''\n",
    "# Step 6: Get the best parameters for BaggingClassifier\n",
    "best_params = bagging_grid_search.best_params_\n",
    "print(f\"Best Parameters: {best_params}\")\n",
    "'''\n",
    "\n",
    "'''\n",
    "Best Parameters: {'base_estimator__max_depth': 10, 'max_features': 0.75, 'max_samples': 0.5, 'n_estimators': 100}\n",
    "'''"
   ]
  },
  {
   "cell_type": "code",
   "execution_count": null,
   "id": "9a21abad",
   "metadata": {},
   "outputs": [],
   "source": [
    "# Step 7: Fit the final BaggingClassifier model using the best parameters found\n",
    "best_bagging_classifier = BaggingClassifier(\n",
    "    base_estimator=DecisionTreeClassifier(max_depth=best_params['base_estimator__max_depth']),\n",
    "    n_estimators=best_params['n_estimators'],\n",
    "    max_samples=best_params['max_samples'],\n",
    "    max_features=best_params['max_features'],\n",
    "    random_state=42\n",
    ")\n",
    "\n",
    "best_bagging_classifier.fit(x_train_encoded, y_train)"
   ]
  },
  {
   "cell_type": "code",
   "execution_count": null,
   "id": "11df6165",
   "metadata": {},
   "outputs": [],
   "source": [
    "# Step 8: Model evaluation\n",
    "y_bagging_pred_train = best_bagging_classifier.predict(x_train_encoded)\n",
    "\n",
    "# Evaluate model\n",
    "classification_model_evaluation(y_train, y_bagging_pred_train)\n",
    "\n",
    "''' \n",
    "Accuracy: 0.739\n",
    "Precision: 0.709\n",
    "Recall: 0.875\n",
    "F1-Score: 0.783\n",
    "\n",
    "Confusion Matrix:\n",
    "[[ 7678  5590]\n",
    " [ 1934 13598]]\n",
    "'''"
   ]
  },
  {
   "cell_type": "code",
   "execution_count": null,
   "id": "322beb66",
   "metadata": {},
   "outputs": [],
   "source": [
    "#############################################################\n",
    "## ExtraTreesClassifier  ##\n",
    "#############################################################"
   ]
  },
  {
   "cell_type": "code",
   "execution_count": null,
   "id": "46f9dbc8",
   "metadata": {},
   "outputs": [],
   "source": [
    "'''\n",
    "# Step 1: Define hyperparameter grid for ExtraTreesClassifier\n",
    "n_estimators_values = [50, 100, 200]  # Number of trees in the forest\n",
    "max_features_values = ['sqrt', 'log2', None]  # Number of features to consider at each split\n",
    "max_depth_values = [None, 10, 20, 30]  # Maximum depth of the tree\n",
    "min_samples_split_values = [2, 5, 10]  # Minimum samples required to split an internal node\n",
    "min_samples_leaf_values = [1, 2, 4]  # Minimum samples required to be at a leaf node\n",
    "bootstrap_values = [False, True]  # Whether bootstrap samples are used when building trees\n",
    "\n",
    "# Step 2: Create the parameter grid\n",
    "et_param_grid = {\n",
    "    'n_estimators': n_estimators_values,\n",
    "    'max_features': max_features_values,\n",
    "    'max_depth': max_depth_values,\n",
    "    'min_samples_split': min_samples_split_values,\n",
    "    'min_samples_leaf': min_samples_leaf_values,\n",
    "    'bootstrap': bootstrap_values\n",
    "}\n",
    "\n",
    "# Step 3: Set up the classifier\n",
    "et_classifier = ExtraTreesClassifier(random_state=42)\n",
    "\n",
    "# Step 4: Build the GridSearchCV model\n",
    "et_grid_search = GridSearchCV(\n",
    "    estimator=et_classifier,\n",
    "    param_grid=et_param_grid,\n",
    "    cv=5,  # 5-fold cross-validation\n",
    "    scoring='accuracy',  # Use accuracy as the scoring metric\n",
    "    n_jobs=-1,  # Use all available cores\n",
    "    verbose=1  # Output progress\n",
    ")\n",
    "'''"
   ]
  },
  {
   "cell_type": "code",
   "execution_count": null,
   "id": "28bb0bde",
   "metadata": {},
   "outputs": [],
   "source": [
    "'''\n",
    "# Step 5: Fit the grid search\n",
    "et_grid_search.fit(x_train_encoded, y_train)\n",
    "'''"
   ]
  },
  {
   "cell_type": "code",
   "execution_count": null,
   "id": "19be8258",
   "metadata": {},
   "outputs": [],
   "source": [
    "'''\n",
    "# Extract results from GridSearchCV for ExtraTreesClassifier\n",
    "et_results = pd.DataFrame(et_grid_search.cv_results_)\n",
    "\n",
    "# Plot performance for different 'n_estimators' values grouped by 'max_features'\n",
    "plt.figure(figsize=(10, 6))\n",
    "\n",
    "# Loop over 'max_features' values\n",
    "for max_features in max_features_values:\n",
    "    subset = et_results[et_results['param_max_features'] == max_features]\n",
    "    plt.plot(\n",
    "        subset['param_n_estimators'],  # Plot for different 'n_estimators' values\n",
    "        subset['mean_test_score'],  # Accuracy values are stored in 'mean_test_score'\n",
    "        marker='o',\n",
    "        label=f'Max Features: {max_features}'\n",
    "    )\n",
    "\n",
    "# Customize the plot\n",
    "plt.xlabel('Number of Estimators (n_estimators)')\n",
    "plt.ylabel('Mean Test Score (Accuracy)')\n",
    "plt.title('Extra Trees Classifier: Performance vs. Number of Estimators')\n",
    "plt.legend(title='Max Features')\n",
    "plt.grid(True)\n",
    "plt.show()\n",
    "'''"
   ]
  },
  {
   "cell_type": "code",
   "execution_count": null,
   "id": "bc23a05b",
   "metadata": {},
   "outputs": [],
   "source": [
    "'''\n",
    "# Step 6: Get the best parameters for ExtraTreesClassifier\n",
    "best_params = et_grid_search.best_params_\n",
    "print(f\"Best Parameters: {best_params}\")\n",
    "'''\n",
    "\n",
    "'''\n",
    "Best Parameters: {'bootstrap': True, 'max_depth': 30, 'max_features': None, 'min_samples_leaf': 2, 'min_samples_split': 10, 'n_estimators': 200}\n",
    "'''"
   ]
  },
  {
   "cell_type": "code",
   "execution_count": null,
   "id": "d2566764",
   "metadata": {},
   "outputs": [],
   "source": [
    "# Step 7: Fit the final ExtraTreesClassifier model using the best parameters found\n",
    "best_et_classifier = ExtraTreesClassifier(\n",
    "    n_estimators=best_params['n_estimators'],\n",
    "    max_features=best_params['max_features'],\n",
    "    max_depth=best_params['max_depth'],\n",
    "    min_samples_split=best_params['min_samples_split'],\n",
    "    min_samples_leaf=best_params['min_samples_leaf'],\n",
    "    bootstrap=best_params['bootstrap'],\n",
    "    random_state=42\n",
    ")\n",
    "\n",
    "best_et_classifier.fit(x_train_encoded, y_train)"
   ]
  },
  {
   "cell_type": "code",
   "execution_count": null,
   "id": "ccc676c7",
   "metadata": {},
   "outputs": [],
   "source": [
    "# Step 8: Model evaluation\n",
    "y_et_pred_train = best_et_classifier.predict(x_train_encoded)\n",
    "\n",
    "# Evaluate model\n",
    "classification_model_evaluation(y_train, y_et_pred_train)\n",
    "\n",
    "\n",
    "'''\n",
    "Accuracy: 0.964\n",
    "Precision: 0.962\n",
    "Recall: 0.971\n",
    "F1-Score: 0.967\n",
    "\n",
    "Confusion Matrix:\n",
    "[[12671   597]\n",
    " [  448 15084]]\n",
    "'''"
   ]
  },
  {
   "cell_type": "code",
   "execution_count": null,
   "id": "54dbf0ec",
   "metadata": {},
   "outputs": [],
   "source": [
    "#############################################################\n",
    "## XGBClassifier  ##\n",
    "#############################################################"
   ]
  },
  {
   "cell_type": "code",
   "execution_count": null,
   "id": "ed278552",
   "metadata": {},
   "outputs": [],
   "source": [
    "'''\n",
    "# Step 1: Define hyperparameter grid for XGBClassifier\n",
    "n_estimators_values = [50, 100, 200]  # Number of boosting rounds\n",
    "learning_rate_values = [0.01, 0.1, 0.3]  # Step size at each boosting stage\n",
    "max_depth_values = [3, 5, 7]  # Maximum depth of a tree\n",
    "min_child_weight_values = [1, 3, 5]  # Minimum sum of instance weight (hessian) needed in a child\n",
    "gamma_values = [0, 0.1, 0.3]  # Minimum loss reduction to make a split\n",
    "subsample_values = [0.8, 0.9, 1.0]  # Fraction of samples used for training\n",
    "colsample_bytree_values = [0.8, 0.9, 1.0]  # Fraction of features used for training\n",
    "\n",
    "# Step 2: Create the parameter grid\n",
    "xgb_param_grid = {\n",
    "    'n_estimators': n_estimators_values,\n",
    "    'learning_rate': learning_rate_values,\n",
    "    'max_depth': max_depth_values,\n",
    "    'min_child_weight': min_child_weight_values,\n",
    "    'gamma': gamma_values,\n",
    "    'subsample': subsample_values,\n",
    "    'colsample_bytree': colsample_bytree_values\n",
    "}\n",
    "\n",
    "# Step 3: Set up the classifier\n",
    "xgb_classifier = XGBClassifier(use_label_encoder=False, eval_metric='logloss', random_state=42)\n",
    "\n",
    "# Step 4: Build the GridSearchCV model\n",
    "xgb_grid_search = GridSearchCV(\n",
    "    estimator=xgb_classifier,\n",
    "    param_grid=xgb_param_grid,\n",
    "    cv=5,  # 5-fold cross-validation\n",
    "    scoring='accuracy',  # Use accuracy as the scoring metric\n",
    "    n_jobs=-1,  # Use all available cores\n",
    "    verbose=1  # Output progress\n",
    ")\n",
    "'''"
   ]
  },
  {
   "cell_type": "code",
   "execution_count": null,
   "id": "31afb9db",
   "metadata": {},
   "outputs": [],
   "source": [
    "'''\n",
    "# Step 5: Fit the grid search\n",
    "xgb_grid_search.fit(x_train_encoded, y_train)\n",
    "'''"
   ]
  },
  {
   "cell_type": "code",
   "execution_count": null,
   "id": "b42cd653",
   "metadata": {},
   "outputs": [],
   "source": [
    "'''\n",
    "# Extract results from GridSearchCV for XGBClassifier\n",
    "xgb_results = pd.DataFrame(xgb_grid_search.cv_results_)\n",
    "\n",
    "# Plot performance for different 'n_estimators' values grouped by 'learning_rate'\n",
    "plt.figure(figsize=(10, 6))\n",
    "\n",
    "# Loop over 'learning_rate' values\n",
    "for learning_rate in learning_rate_values:\n",
    "    subset = xgb_results[xgb_results['param_learning_rate'] == learning_rate]\n",
    "    plt.plot(\n",
    "        subset['param_n_estimators'],  # Plot for different 'n_estimators' values\n",
    "        subset['mean_test_score'],  # Accuracy values are stored in 'mean_test_score'\n",
    "        marker='o',\n",
    "        label=f'Learning Rate: {learning_rate}'\n",
    "    )\n",
    "\n",
    "# Customize the plot\n",
    "plt.xlabel('Number of Estimators (n_estimators)')\n",
    "plt.ylabel('Mean Test Score (Accuracy)')\n",
    "plt.title('XGBoost Classifier: Performance vs. Number of Estimators')\n",
    "plt.legend(title='Learning Rate')\n",
    "plt.grid(True)\n",
    "plt.show()\n",
    "'''"
   ]
  },
  {
   "cell_type": "code",
   "execution_count": null,
   "id": "eb42f0bc",
   "metadata": {},
   "outputs": [],
   "source": [
    "'''\n",
    "# Step 6: Get the best parameters for XGBClassifier\n",
    "best_params = xgb_grid_search.best_params_\n",
    "print(f\"Best Parameters: {best_params}\")\n",
    "'''\n",
    "\n",
    "'''\n",
    "Best Parameters: {'colsample_bytree': 0.8, 'gamma': 0.3, 'learning_rate': 0.1, 'max_depth': 3, \n",
    "'min_child_weight': 3, 'n_estimators': 200, 'subsample': 1.0}\n",
    "'''"
   ]
  },
  {
   "cell_type": "code",
   "execution_count": 36,
   "id": "45328ee5",
   "metadata": {},
   "outputs": [
    {
     "data": {
      "text/html": [
       "<style>#sk-container-id-1 {color: black;background-color: white;}#sk-container-id-1 pre{padding: 0;}#sk-container-id-1 div.sk-toggleable {background-color: white;}#sk-container-id-1 label.sk-toggleable__label {cursor: pointer;display: block;width: 100%;margin-bottom: 0;padding: 0.3em;box-sizing: border-box;text-align: center;}#sk-container-id-1 label.sk-toggleable__label-arrow:before {content: \"▸\";float: left;margin-right: 0.25em;color: #696969;}#sk-container-id-1 label.sk-toggleable__label-arrow:hover:before {color: black;}#sk-container-id-1 div.sk-estimator:hover label.sk-toggleable__label-arrow:before {color: black;}#sk-container-id-1 div.sk-toggleable__content {max-height: 0;max-width: 0;overflow: hidden;text-align: left;background-color: #f0f8ff;}#sk-container-id-1 div.sk-toggleable__content pre {margin: 0.2em;color: black;border-radius: 0.25em;background-color: #f0f8ff;}#sk-container-id-1 input.sk-toggleable__control:checked~div.sk-toggleable__content {max-height: 200px;max-width: 100%;overflow: auto;}#sk-container-id-1 input.sk-toggleable__control:checked~label.sk-toggleable__label-arrow:before {content: \"▾\";}#sk-container-id-1 div.sk-estimator input.sk-toggleable__control:checked~label.sk-toggleable__label {background-color: #d4ebff;}#sk-container-id-1 div.sk-label input.sk-toggleable__control:checked~label.sk-toggleable__label {background-color: #d4ebff;}#sk-container-id-1 input.sk-hidden--visually {border: 0;clip: rect(1px 1px 1px 1px);clip: rect(1px, 1px, 1px, 1px);height: 1px;margin: -1px;overflow: hidden;padding: 0;position: absolute;width: 1px;}#sk-container-id-1 div.sk-estimator {font-family: monospace;background-color: #f0f8ff;border: 1px dotted black;border-radius: 0.25em;box-sizing: border-box;margin-bottom: 0.5em;}#sk-container-id-1 div.sk-estimator:hover {background-color: #d4ebff;}#sk-container-id-1 div.sk-parallel-item::after {content: \"\";width: 100%;border-bottom: 1px solid gray;flex-grow: 1;}#sk-container-id-1 div.sk-label:hover label.sk-toggleable__label {background-color: #d4ebff;}#sk-container-id-1 div.sk-serial::before {content: \"\";position: absolute;border-left: 1px solid gray;box-sizing: border-box;top: 0;bottom: 0;left: 50%;z-index: 0;}#sk-container-id-1 div.sk-serial {display: flex;flex-direction: column;align-items: center;background-color: white;padding-right: 0.2em;padding-left: 0.2em;position: relative;}#sk-container-id-1 div.sk-item {position: relative;z-index: 1;}#sk-container-id-1 div.sk-parallel {display: flex;align-items: stretch;justify-content: center;background-color: white;position: relative;}#sk-container-id-1 div.sk-item::before, #sk-container-id-1 div.sk-parallel-item::before {content: \"\";position: absolute;border-left: 1px solid gray;box-sizing: border-box;top: 0;bottom: 0;left: 50%;z-index: -1;}#sk-container-id-1 div.sk-parallel-item {display: flex;flex-direction: column;z-index: 1;position: relative;background-color: white;}#sk-container-id-1 div.sk-parallel-item:first-child::after {align-self: flex-end;width: 50%;}#sk-container-id-1 div.sk-parallel-item:last-child::after {align-self: flex-start;width: 50%;}#sk-container-id-1 div.sk-parallel-item:only-child::after {width: 0;}#sk-container-id-1 div.sk-dashed-wrapped {border: 1px dashed gray;margin: 0 0.4em 0.5em 0.4em;box-sizing: border-box;padding-bottom: 0.4em;background-color: white;}#sk-container-id-1 div.sk-label label {font-family: monospace;font-weight: bold;display: inline-block;line-height: 1.2em;}#sk-container-id-1 div.sk-label-container {text-align: center;}#sk-container-id-1 div.sk-container {/* jupyter's `normalize.less` sets `[hidden] { display: none; }` but bootstrap.min.css set `[hidden] { display: none !important; }` so we also need the `!important` here to be able to override the default hidden behavior on the sphinx rendered scikit-learn.org. See: https://github.com/scikit-learn/scikit-learn/issues/21755 */display: inline-block !important;position: relative;}#sk-container-id-1 div.sk-text-repr-fallback {display: none;}</style><div id=\"sk-container-id-1\" class=\"sk-top-container\"><div class=\"sk-text-repr-fallback\"><pre>XGBClassifier(base_score=None, booster=None, callbacks=None,\n",
       "              colsample_bylevel=None, colsample_bynode=None,\n",
       "              colsample_bytree=0.8, device=None, early_stopping_rounds=None,\n",
       "              enable_categorical=False, eval_metric=&#x27;logloss&#x27;,\n",
       "              feature_types=None, gamma=0.3, grow_policy=None,\n",
       "              importance_type=None, interaction_constraints=None,\n",
       "              learning_rate=0.1, max_bin=None, max_cat_threshold=None,\n",
       "              max_cat_to_onehot=None, max_delta_step=None, max_depth=3,\n",
       "              max_leaves=None, min_child_weight=3, missing=nan,\n",
       "              monotone_constraints=None, multi_strategy=None, n_estimators=200,\n",
       "              n_jobs=None, num_parallel_tree=None, random_state=42, ...)</pre><b>In a Jupyter environment, please rerun this cell to show the HTML representation or trust the notebook. <br />On GitHub, the HTML representation is unable to render, please try loading this page with nbviewer.org.</b></div><div class=\"sk-container\" hidden><div class=\"sk-item\"><div class=\"sk-estimator sk-toggleable\"><input class=\"sk-toggleable__control sk-hidden--visually\" id=\"sk-estimator-id-1\" type=\"checkbox\" checked><label for=\"sk-estimator-id-1\" class=\"sk-toggleable__label sk-toggleable__label-arrow\">XGBClassifier</label><div class=\"sk-toggleable__content\"><pre>XGBClassifier(base_score=None, booster=None, callbacks=None,\n",
       "              colsample_bylevel=None, colsample_bynode=None,\n",
       "              colsample_bytree=0.8, device=None, early_stopping_rounds=None,\n",
       "              enable_categorical=False, eval_metric=&#x27;logloss&#x27;,\n",
       "              feature_types=None, gamma=0.3, grow_policy=None,\n",
       "              importance_type=None, interaction_constraints=None,\n",
       "              learning_rate=0.1, max_bin=None, max_cat_threshold=None,\n",
       "              max_cat_to_onehot=None, max_delta_step=None, max_depth=3,\n",
       "              max_leaves=None, min_child_weight=3, missing=nan,\n",
       "              monotone_constraints=None, multi_strategy=None, n_estimators=200,\n",
       "              n_jobs=None, num_parallel_tree=None, random_state=42, ...)</pre></div></div></div></div></div>"
      ],
      "text/plain": [
       "XGBClassifier(base_score=None, booster=None, callbacks=None,\n",
       "              colsample_bylevel=None, colsample_bynode=None,\n",
       "              colsample_bytree=0.8, device=None, early_stopping_rounds=None,\n",
       "              enable_categorical=False, eval_metric='logloss',\n",
       "              feature_types=None, gamma=0.3, grow_policy=None,\n",
       "              importance_type=None, interaction_constraints=None,\n",
       "              learning_rate=0.1, max_bin=None, max_cat_threshold=None,\n",
       "              max_cat_to_onehot=None, max_delta_step=None, max_depth=3,\n",
       "              max_leaves=None, min_child_weight=3, missing=nan,\n",
       "              monotone_constraints=None, multi_strategy=None, n_estimators=200,\n",
       "              n_jobs=None, num_parallel_tree=None, random_state=42, ...)"
      ]
     },
     "execution_count": 36,
     "metadata": {},
     "output_type": "execute_result"
    }
   ],
   "source": [
    "# Step 7: Fit the final XGBClassifier model using the best parameters found\n",
    "best_xgb_classifier = XGBClassifier(\n",
    "    n_estimators=200,\n",
    "    learning_rate=.1,\n",
    "    max_depth=3,\n",
    "    min_child_weight=3,\n",
    "    gamma=.3,\n",
    "    subsample=1,\n",
    "    colsample_bytree=.8,\n",
    "    eval_metric='logloss',\n",
    "    random_state=42\n",
    ")\n",
    "\n",
    "best_xgb_classifier.fit(x_train_encoded, y_train)"
   ]
  },
  {
   "cell_type": "code",
   "execution_count": 37,
   "id": "2311b883",
   "metadata": {},
   "outputs": [
    {
     "name": "stdout",
     "output_type": "stream",
     "text": [
      "Accuracy: 0.708\n",
      "Precision: 0.698\n",
      "Recall: 0.808\n",
      "F1-Score: 0.749\n",
      "\n",
      "Confusion Matrix:\n",
      "[[ 7827  5441]\n",
      " [ 2983 12549]]\n"
     ]
    }
   ],
   "source": [
    "# Step 8: Model evaluation\n",
    "y_xgb_pred_train = best_xgb_classifier.predict(x_train_encoded)\n",
    "\n",
    "# Evaluate model\n",
    "classification_model_evaluation(y_train, y_xgb_pred_train)\n",
    "\n",
    "\"\"\"\n",
    "Accuracy: 0.708\n",
    "Precision: 0.698\n",
    "Recall: 0.808\n",
    "F1-Score: 0.749\n",
    "\n",
    "Confusion Matrix:\n",
    "[[ 7827  5441]\n",
    " [ 2983 12549]]\n",
    "\"\"\""
   ]
  },
  {
   "cell_type": "code",
   "execution_count": null,
   "id": "719068c2",
   "metadata": {},
   "outputs": [],
   "source": [
    "#############################################################\n",
    "## LGBMClassifier  ##\n",
    "#############################################################"
   ]
  },
  {
   "cell_type": "code",
   "execution_count": null,
   "id": "12a901e2",
   "metadata": {},
   "outputs": [],
   "source": [
    "'''\n",
    "# Step 1: Define hyperparameter grid for LGBMClassifier\n",
    "n_estimators_values = [50, 100, 200]  # Number of boosting stages to perform\n",
    "learning_rate_values = [0.01, 0.1, 0.3]  # Step size at each boosting stage\n",
    "max_depth_values = [-1, 5, 10]  # Maximum depth of a tree (-1 means no limit)\n",
    "num_leaves_values = [31, 50, 100]  # Number of leaves in one tree\n",
    "min_child_samples_values = [20, 50, 100]  # Minimum number of samples in a child node\n",
    "subsample_values = [0.8, 0.9, 1.0]  # Fraction of samples used for training\n",
    "colsample_bytree_values = [0.8, 0.9, 1.0]  # Fraction of features used for training\n",
    "\n",
    "# Step 2: Create the parameter grid\n",
    "lgb_param_grid = {\n",
    "    'n_estimators': n_estimators_values,\n",
    "    'learning_rate': learning_rate_values,\n",
    "    'max_depth': max_depth_values,\n",
    "    'num_leaves': num_leaves_values,\n",
    "    'min_child_samples': min_child_samples_values,\n",
    "    'subsample': subsample_values,\n",
    "    'colsample_bytree': colsample_bytree_values\n",
    "}\n",
    "\n",
    "# Step 3: Set up the classifier\n",
    "lgb_classifier = LGBMClassifier(random_state=42)\n",
    "\n",
    "# Step 4: Build the GridSearchCV model\n",
    "lgb_grid_search = GridSearchCV(\n",
    "    estimator=lgb_classifier,\n",
    "    param_grid=lgb_param_grid,\n",
    "    cv=5,  # 5-fold cross-validation\n",
    "    scoring='accuracy',  # Use accuracy as the scoring metric\n",
    "    n_jobs=-1,  # Use all available cores\n",
    "    verbose=1  # Output progress\n",
    ")\n",
    "'''"
   ]
  },
  {
   "cell_type": "code",
   "execution_count": null,
   "id": "8f2c1753",
   "metadata": {},
   "outputs": [],
   "source": [
    "'''\n",
    "# Step 5: Fit the grid search\n",
    "lgb_grid_search.fit(x_train_encoded, y_train)\n",
    "'''"
   ]
  },
  {
   "cell_type": "code",
   "execution_count": null,
   "id": "9b2d3211",
   "metadata": {},
   "outputs": [],
   "source": [
    "'''\n",
    "# Extract results from GridSearchCV for LGBMClassifier\n",
    "lgb_results = pd.DataFrame(lgb_grid_search.cv_results_)\n",
    "\n",
    "# Plot performance for different 'n_estimators' values grouped by 'learning_rate'\n",
    "plt.figure(figsize=(10, 6))\n",
    "\n",
    "# Loop over 'learning_rate' values\n",
    "for learning_rate in learning_rate_values:\n",
    "    subset = lgb_results[lgb_results['param_learning_rate'] == learning_rate]\n",
    "    plt.plot(\n",
    "        subset['param_n_estimators'],  # Plot for different 'n_estimators' values\n",
    "        subset['mean_test_score'],  # Accuracy values are stored in 'mean_test_score'\n",
    "        marker='o',\n",
    "        label=f'Learning Rate: {learning_rate}'\n",
    "    )\n",
    "\n",
    "# Customize the plot\n",
    "plt.xlabel('Number of Estimators (n_estimators)')\n",
    "plt.ylabel('Mean Test Score (Accuracy)')\n",
    "plt.title('LightGBM Classifier: Performance vs. Number of Estimators')\n",
    "plt.legend(title='Learning Rate')\n",
    "plt.grid(True)\n",
    "plt.show()\n",
    "'''"
   ]
  },
  {
   "cell_type": "code",
   "execution_count": null,
   "id": "b15e31ba",
   "metadata": {},
   "outputs": [],
   "source": [
    "'''\n",
    "# Step 6: Get the best parameters for LGBMClassifier\n",
    "best_params = lgb_grid_search.best_params_\n",
    "print(f\"Best Parameters: {best_params}\")\n",
    "'''\n",
    "\n",
    "'''\n",
    "Best Parameters: {'colsample_bytree': 0.8, 'learning_rate': 0.1, 'max_depth': 10, \n",
    "'min_child_samples': 100, 'n_estimators': 100, 'num_leaves': 31, 'subsample': 0.8}\n",
    "'''"
   ]
  },
  {
   "cell_type": "code",
   "execution_count": null,
   "id": "d0918854",
   "metadata": {},
   "outputs": [],
   "source": [
    "# Step 7: Fit the final LGBMClassifier model using the best parameters found\n",
    "best_lgb_classifier = LGBMClassifier(\n",
    "    n_estimators=best_params['n_estimators'],\n",
    "    learning_rate=best_params['learning_rate'],\n",
    "    max_depth=best_params['max_depth'],\n",
    "    num_leaves=best_params['num_leaves'],\n",
    "    min_child_samples=best_params['min_child_samples'],\n",
    "    subsample=best_params['subsample'],\n",
    "    colsample_bytree=best_params['colsample_bytree'],\n",
    "    random_state=42\n",
    ")\n",
    "\n",
    "best_lgb_classifier.fit(x_train_encoded, y_train)"
   ]
  },
  {
   "cell_type": "code",
   "execution_count": null,
   "id": "bd741c4b",
   "metadata": {},
   "outputs": [],
   "source": [
    "# Step 8: Model evaluation\n",
    "y_lgb_pred_train = best_lgb_classifier.predict(x_train_encoded)\n",
    "\n",
    "\n",
    "# Evaluate model\n",
    "classification_model_evaluation(y_train, y_lgb_pred_train)\n",
    "\n",
    "'''\n",
    "Accuracy: 0.738\n",
    "Precision: 0.730\n",
    "Recall: 0.816\n",
    "F1-Score: 0.771\n",
    "\n",
    "Confusion Matrix:\n",
    "[[ 8579  4689]\n",
    " [ 2853 12679]]\n",
    "'''"
   ]
  },
  {
   "cell_type": "code",
   "execution_count": null,
   "id": "0b69bebc",
   "metadata": {},
   "outputs": [],
   "source": [
    "#############################################################\n",
    "## CatBoostClassifier  ##\n",
    "#############################################################"
   ]
  },
  {
   "cell_type": "code",
   "execution_count": null,
   "id": "34ecdebf",
   "metadata": {},
   "outputs": [],
   "source": [
    "'''\n",
    "# Step 1: Define hyperparameter grid for CatBoostClassifier\n",
    "n_estimators_values = [50, 100, 200]  # Number of boosting iterations\n",
    "learning_rate_values = [0.01, 0.1, 0.3]  # Learning rate\n",
    "depth_values = [4, 6, 10]  # Depth of the trees\n",
    "l2_leaf_reg_values = [1, 3, 5]  # Regularization parameter\n",
    "border_count_values = [32, 64, 128]  # Number of splits for numerical features\n",
    "\n",
    "# Step 2: Create the parameter grid\n",
    "catboost_param_grid = {\n",
    "    'n_estimators': n_estimators_values,\n",
    "    'learning_rate': learning_rate_values,\n",
    "    'depth': depth_values,\n",
    "    'l2_leaf_reg': l2_leaf_reg_values,\n",
    "    'border_count': border_count_values,\n",
    "}\n",
    "\n",
    "# Step 3: Set up the classifier\n",
    "catboost_classifier = CatBoostClassifier(\n",
    "    random_seed=42,\n",
    "    verbose=0,  # Suppress training logs for cleaner output\n",
    ")\n",
    "\n",
    "# Step 4: Build the GridSearchCV model\n",
    "catboost_grid_search = GridSearchCV(\n",
    "    estimator=catboost_classifier,\n",
    "    param_grid=catboost_param_grid,\n",
    "    cv=5,  # 5-fold cross-validation\n",
    "    scoring='accuracy',  # Use accuracy as the scoring metric\n",
    "    n_jobs=-1,  # Use all available cores\n",
    "    verbose=1  # Output progress\n",
    ")\n",
    "'''"
   ]
  },
  {
   "cell_type": "code",
   "execution_count": null,
   "id": "fba99c77",
   "metadata": {},
   "outputs": [],
   "source": [
    "'''\n",
    "# Step 5: Fit the grid search\n",
    "catboost_grid_search.fit(x_train_encoded, y_train)\n",
    "'''"
   ]
  },
  {
   "cell_type": "code",
   "execution_count": null,
   "id": "b63142fe",
   "metadata": {},
   "outputs": [],
   "source": [
    "'''\n",
    "# Extract results from GridSearchCV for CatBoostClassifier\n",
    "catboost_results = pd.DataFrame(catboost_grid_search.cv_results_)\n",
    "\n",
    "# Plot performance for different 'n_estimators' values grouped by 'learning_rate'\n",
    "plt.figure(figsize=(10, 6))\n",
    "\n",
    "# Loop over 'learning_rate' values\n",
    "for learning_rate in learning_rate_values:\n",
    "    subset = catboost_results[catboost_results['param_learning_rate'] == learning_rate]\n",
    "    plt.plot(\n",
    "        subset['param_n_estimators'],  # Plot for different 'n_estimators' values\n",
    "        subset['mean_test_score'],  # Accuracy values are stored in 'mean_test_score'\n",
    "        marker='o',\n",
    "        label=f'Learning Rate: {learning_rate}'\n",
    "    )\n",
    "\n",
    "# Customize the plot\n",
    "plt.xlabel('Number of Estimators (n_estimators)')\n",
    "plt.ylabel('Mean Test Score (Accuracy)')\n",
    "plt.title('CatBoost Classifier: Performance vs. Number of Estimators')\n",
    "plt.legend(title='Learning Rate')\n",
    "plt.grid(True)\n",
    "plt.show()\n",
    "'''"
   ]
  },
  {
   "cell_type": "code",
   "execution_count": null,
   "id": "6154d63b",
   "metadata": {},
   "outputs": [],
   "source": [
    "'''\n",
    "# Step 6: Get the best parameters for CatBoostClassifier\n",
    "best_params = catboost_grid_search.best_params_\n",
    "print(f\"Best Parameters: {best_params}\")\n",
    "'''\n",
    "\n",
    "'''\n",
    "Best Parameters: {'border_count': 64, 'depth': 4, 'l2_leaf_reg': 5, 'learning_rate': 0.1, 'n_estimators': 200}\n",
    "'''"
   ]
  },
  {
   "cell_type": "code",
   "execution_count": null,
   "id": "82e6f2ae",
   "metadata": {},
   "outputs": [],
   "source": [
    "# Step 7: Fit the final CatBoostClassifier model using the best parameters found\n",
    "best_catboost_classifier = CatBoostClassifier(\n",
    "    n_estimators=best_params['n_estimators'],\n",
    "    learning_rate=best_params['learning_rate'],\n",
    "    depth=best_params['depth'],\n",
    "    l2_leaf_reg=best_params['l2_leaf_reg'],\n",
    "    border_count=best_params['border_count'],\n",
    "    random_seed=42,\n",
    "    verbose=0\n",
    ")\n",
    "\n",
    "best_catboost_classifier.fit(x_train_encoded, y_train)"
   ]
  },
  {
   "cell_type": "code",
   "execution_count": null,
   "id": "773c0037",
   "metadata": {},
   "outputs": [],
   "source": [
    "# Step 8: Model evaluation\n",
    "y_catboost_pred_train = best_catboost_classifier.predict(x_train_encoded)\n",
    "\n",
    "# Evaluate model\n",
    "classification_model_evaluation(y_train, y_catboost_pred_train)\n",
    "\n",
    "'''\n",
    "Accuracy: 0.706\n",
    "Precision: 0.696\n",
    "Recall: 0.807\n",
    "F1-Score: 0.747\n",
    "\n",
    "Confusion Matrix:\n",
    "[[ 7788  5480]\n",
    " [ 2999 12533]]\n",
    "'''"
   ]
  },
  {
   "cell_type": "code",
   "execution_count": null,
   "id": "78ba182d",
   "metadata": {},
   "outputs": [],
   "source": [
    "#############################################################\n",
    "## tensorflow  ##\n",
    "#############################################################"
   ]
  },
  {
   "cell_type": "code",
   "execution_count": null,
   "id": "84d97843",
   "metadata": {},
   "outputs": [],
   "source": [
    "'''\n",
    "# Step 1: Define a function to create the Keras model\n",
    "def create_model(hidden_layers=1, nodes_per_layer=32, activation='relu', dropout_rate=0.0, optimizer='adam'):\n",
    "    model = Sequential()\n",
    "    model.add(Dense(nodes_per_layer, activation=activation, input_shape=(x_train_encoded.shape[1],)))\n",
    "    for _ in range(hidden_layers - 1):\n",
    "        model.add(Dense(nodes_per_layer, activation=activation))\n",
    "        if dropout_rate > 0:\n",
    "            model.add(Dropout(dropout_rate))\n",
    "    model.add(Dense(len(np.unique(y_train)), activation='softmax'))  # Output layer for classification\n",
    "    model.compile(optimizer=optimizer, loss='sparse_categorical_crossentropy', metrics=['accuracy'])\n",
    "    return model\n",
    "\n",
    "# Step 2: Wrap the Keras model for GridSearchCV\n",
    "keras_model = KerasClassifier(build_fn=create_model, verbose=0)\n",
    "\n",
    "# Step 3: Define the hyperparameter grid\n",
    "param_grid = {\n",
    "    'hidden_layers': [1, 2, 3],               # Number of hidden layers\n",
    "    'nodes_per_layer': [16, 32, 64],          # Number of nodes per layer\n",
    "    'activation': ['relu', 'tanh'],           # Activation functions\n",
    "    'dropout_rate': [0.0, 0.2, 0.4],          # Dropout rates\n",
    "    'optimizer': ['adam', 'rmsprop'],         # Optimizers\n",
    "    'batch_size': [16, 32],                   # Batch sizes\n",
    "    'epochs': [10, 20],                       # Number of epochs\n",
    "}\n",
    "\n",
    "# Step 4: Build the GridSearchCV model\n",
    "grid_search = GridSearchCV(\n",
    "    estimator=keras_model,\n",
    "    param_grid=param_grid,\n",
    "    cv=3,  # 3-fold cross-validation\n",
    "    scoring='accuracy',  # Use accuracy as the scoring metric\n",
    "    n_jobs=-1,  # Use all available cores\n",
    "    verbose=1  # Output progress\n",
    ")\n",
    "'''"
   ]
  },
  {
   "cell_type": "code",
   "execution_count": null,
   "id": "568cd9ad",
   "metadata": {},
   "outputs": [],
   "source": [
    "'''\n",
    "# Step 5: Fit the grid search\n",
    "grid_search.fit(x_train_encoded, y_train)\n",
    "'''"
   ]
  },
  {
   "cell_type": "code",
   "execution_count": null,
   "id": "2b4c442c",
   "metadata": {},
   "outputs": [],
   "source": [
    "'''\n",
    "# Step 6: Extract the best parameters and results\n",
    "best_params = grid_search.best_params_\n",
    "print(f\"Best Parameters: {best_params}\")\n",
    "'''\n",
    "\n",
    "'''\n",
    "# Step 6: Extract the best parameters and results\n",
    "best_params = grid_search.best_params_\n",
    "print(f\"Best Parameters: {best_params}\")\n",
    "'''"
   ]
  },
  {
   "cell_type": "code",
   "execution_count": null,
   "id": "3469d64f",
   "metadata": {},
   "outputs": [],
   "source": [
    "'''\n",
    "# Step 7: Train the best model\n",
    "best_model = create_model(\n",
    "    hidden_layers=best_params['hidden_layers'],\n",
    "    nodes_per_layer=best_params['nodes_per_layer'],\n",
    "    activation=best_params['activation'],\n",
    "    dropout_rate=best_params['dropout_rate'],\n",
    "    optimizer=best_params['optimizer']\n",
    ")\n",
    "\n",
    "\n",
    "history = best_model.fit(x_train_encoded, y_train, batch_size=best_params['batch_size'], epochs=best_params['epochs'], verbose=1)\n",
    "\n",
    "'''"
   ]
  },
  {
   "cell_type": "code",
   "execution_count": null,
   "id": "8592db33",
   "metadata": {},
   "outputs": [],
   "source": [
    "# Step 8: Model evaluation\n",
    "y_pred_train = np.argmax(best_model.predict(x_train_encoded), axis=1)\n",
    "\n",
    "classification_model_evaluation(y_train, y_pred_train)"
   ]
  },
  {
   "cell_type": "code",
   "execution_count": null,
   "id": "04036930",
   "metadata": {},
   "outputs": [],
   "source": [
    "# Evaluate model\n",
    "print(\"Train Classification Report:\")\n",
    "print(classification_report(y_train, y_pred_train))\n",
    "print(f\"Training Accuracy: {accuracy_score(y_train, y_pred_train):.4f}\")\n",
    "\n",
    "# Step 9: Visualize training performance\n",
    "plt.figure(figsize=(10, 6))\n",
    "plt.plot(history.history['accuracy'], label='Training Accuracy')\n",
    "plt.plot(history.history['loss'], label='Training Loss')\n",
    "plt.xlabel('Epochs')\n",
    "plt.ylabel('Value')\n",
    "plt.title('Training Performance')\n",
    "plt.legend()\n",
    "plt.grid(True)\n",
    "plt.show()\n"
   ]
  },
  {
   "cell_type": "code",
   "execution_count": null,
   "id": "1ee2c3fd",
   "metadata": {},
   "outputs": [],
   "source": [
    "#############################################################\n",
    "## Save outcomes ##\n",
    "#############################################################"
   ]
  },
  {
   "cell_type": "code",
   "execution_count": null,
   "id": "ba394f8d",
   "metadata": {},
   "outputs": [],
   "source": [
    "# Set up final submission and save\n",
    "submission = pd.DataFrame()\n",
    "submission['ID'] = test_df['ID']\n",
    "submission['prediction'] = logr_model.predict(x_test_encoded)"
   ]
  },
  {
   "cell_type": "code",
   "execution_count": null,
   "id": "3e8c1777",
   "metadata": {},
   "outputs": [],
   "source": [
    "# Save\n",
    "submission.to_csv(\"submission.csv\", index=False)"
   ]
  }
 ],
 "metadata": {
  "kernelspec": {
   "display_name": "Python 3 (ipykernel)",
   "language": "python",
   "name": "python3"
  },
  "language_info": {
   "codemirror_mode": {
    "name": "ipython",
    "version": 3
   },
   "file_extension": ".py",
   "mimetype": "text/x-python",
   "name": "python",
   "nbconvert_exporter": "python",
   "pygments_lexer": "ipython3",
   "version": "3.10.6"
  }
 },
 "nbformat": 4,
 "nbformat_minor": 5
}
