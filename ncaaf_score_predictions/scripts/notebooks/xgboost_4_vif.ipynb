{
 "cells": [
  {
   "cell_type": "code",
   "execution_count": 19,
   "id": "e731c6a0-b30b-4a35-a7e4-7907b6e838f9",
   "metadata": {},
   "outputs": [],
   "source": [
    "from pscore_data_reader_preproc import read_and_process_data, model_evaluation\n",
    "import xgboost as xgb\n",
    "import pandas as pd"
   ]
  },
  {
   "cell_type": "code",
   "execution_count": 5,
   "id": "f43e49fd-1aba-4553-970b-86a6795eb995",
   "metadata": {},
   "outputs": [
    {
     "name": "stdout",
     "output_type": "stream",
     "text": [
      "train data has shape: (14648, 437)\n",
      "test data has shape: (132, 437)\n"
     ]
    },
    {
     "data": {
      "text/plain": [
       "(132, 437)"
      ]
     },
     "execution_count": 5,
     "metadata": {},
     "output_type": "execute_result"
    }
   ],
   "source": [
    "# Read in the data using the pre-processing code\n",
    "x_train, y_train, x_test, y_test = read_and_process_data(\n",
    "     r\"E:\\github_repos\\Private_Projects\\NCAA_FBS_AP_Ranking_Predictions\\python_ap\\scripts_and_data\\data\\score_pred_train_data.csv\",\n",
    "     r\"E:\\github_repos\\Private_Projects\\NCAA_FBS_AP_Ranking_Predictions\\python_ap\\scripts_and_data\\data\\score_pred_test_data.csv\",\n",
    "     True\n",
    ")\n",
    "\n",
    "# check to make sure the data looks right\n",
    "x_train.shape\n",
    "x_test.shape"
   ]
  },
  {
   "cell_type": "code",
   "execution_count": 11,
   "id": "95fce92c-c3f8-429f-b5bd-f297c029c72a",
   "metadata": {},
   "outputs": [],
   "source": [
    "# Set up matrix for train and test\n",
    "trainm = xgb.DMatrix(x_train, label=y_train)\n",
    "testm = xgb.DMatrix(x_test, label=y_test)"
   ]
  },
  {
   "cell_type": "code",
   "execution_count": 15,
   "id": "9346a8e3-38e6-457f-9620-42cef1e384ee",
   "metadata": {},
   "outputs": [],
   "source": [
    "# Define the parameters for XGBoost - can adjust this as needed\n",
    "params = {\n",
    "    'objective': 'reg:squarederror',  # For regression problem\n",
    "    'eval_metric': 'rmse',  # Evaluation metric\n",
    "    'max_depth': 6,  # Max depth of trees\n",
    "    'learning_rate': 0.1\n",
    "}"
   ]
  },
  {
   "cell_type": "code",
   "execution_count": 21,
   "id": "7117687d-878d-451b-947a-09d6a6df79b4",
   "metadata": {},
   "outputs": [],
   "source": [
    "# Train the XGBoost model\n",
    "model = xgb.train(params, trainm, num_boost_round=100)"
   ]
  },
  {
   "cell_type": "code",
   "execution_count": 25,
   "id": "0508f593-3f82-40af-8cd3-369369743027",
   "metadata": {},
   "outputs": [],
   "source": [
    "# Extract feature importance for different types\n",
    "importance_weight = model.get_score(importance_type='weight')\n",
    "importance_gain = model.get_score(importance_type='gain')\n",
    "importance_cover = model.get_score(importance_type='cover')\n",
    "\n",
    "# Convert dictionaries to DataFrames\n",
    "df_weight = pd.DataFrame(importance_weight.items(), columns=['Feature', 'Weight'])\n",
    "df_gain = pd.DataFrame(importance_gain.items(), columns=['Feature', 'Gain'])\n",
    "df_cover = pd.DataFrame(importance_cover.items(), columns=['Feature', 'Cover'])\n",
    "\n",
    "# Merge the DataFrames into a single DataFrame\n",
    "importance_df = df_weight.merge(df_gain, on='Feature', how='outer').merge(df_cover, on='Feature', how='outer')\n",
    "\n",
    "# Fill NaN values with 0 if the columns are not available for a specific feature\n",
    "importance_df = importance_df.fillna(0)\n",
    "\n",
    "# Calculate correlation between the features and the dependent variable (y_train)\n",
    "correlations = x_train.copy()  # Copy the feature matrix\n",
    "correlations['y'] = y_train  # Add the target variable to the dataset\n",
    "correlation_with_dv = correlations.corr()['y'].drop('y')  # Correlation of all features with y\n",
    "\n",
    "# Add the correlation values to the importance DataFrame\n",
    "importance_df['Correlation_with_DV'] = importance_df['Feature'].map(correlation_with_dv).fillna(0)\n",
    "\n",
    "# Save the DataFrame to a CSV file\n",
    "importance_df.to_csv('feature_importance_with_correlation.csv', index=False)\n"
   ]
  },
  {
   "cell_type": "code",
   "execution_count": 23,
   "id": "b5a96630-9c96-4168-aed9-af3eb56e8b4e",
   "metadata": {},
   "outputs": [],
   "source": [
    "\n"
   ]
  },
  {
   "cell_type": "code",
   "execution_count": null,
   "id": "f140d8e7-693d-4f11-8dfc-603a88d8f63a",
   "metadata": {},
   "outputs": [],
   "source": []
  }
 ],
 "metadata": {
  "kernelspec": {
   "display_name": "Python 3 (ipykernel)",
   "language": "python",
   "name": "python3"
  },
  "language_info": {
   "codemirror_mode": {
    "name": "ipython",
    "version": 3
   },
   "file_extension": ".py",
   "mimetype": "text/x-python",
   "name": "python",
   "nbconvert_exporter": "python",
   "pygments_lexer": "ipython3",
   "version": "3.10.6"
  }
 },
 "nbformat": 4,
 "nbformat_minor": 5
}
