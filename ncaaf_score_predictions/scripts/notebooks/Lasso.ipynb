{
 "cells": [
  {
   "cell_type": "code",
   "execution_count": 1,
   "id": "819f6959-20e1-485e-b604-d4c0ca7cd5dc",
   "metadata": {},
   "outputs": [],
   "source": [
    "from pscore_data_reader_preproc import read_and_process_data, model_evaluation\n",
    "from sklearn.linear_model import Lasso\n",
    "from sklearn.model_selection import GridSearchCV\n",
    "import pandas as pd\n",
    "import numpy as np\n",
    "import matplotlib.pyplot as plt"
   ]
  },
  {
   "cell_type": "code",
   "execution_count": 2,
   "id": "373c608a-42e6-4dbc-bbc4-758202baa0d5",
   "metadata": {},
   "outputs": [
    {
     "name": "stdout",
     "output_type": "stream",
     "text": [
      "train data has shape: (14648, 490)\n",
      "test data has shape: (132, 490)\n"
     ]
    },
    {
     "data": {
      "text/plain": [
       "(132, 490)"
      ]
     },
     "execution_count": 2,
     "metadata": {},
     "output_type": "execute_result"
    }
   ],
   "source": [
    "# Read in the data using the pre-processing code\n",
    "x_train, y_train, x_test, y_test, train_team_values, test_team_values = read_and_process_data(\n",
    "     r\"E:\\github_repos\\Private_Projects\\NCAA_FBS_AP_Ranking_Predictions\\python_ap\\scripts_and_data\\data\\score_pred_train_data.csv\",\n",
    "     r\"E:\\github_repos\\Private_Projects\\NCAA_FBS_AP_Ranking_Predictions\\python_ap\\scripts_and_data\\data\\score_pred_test_data.csv\",\n",
    "     True\n",
    ")\n",
    "\n",
    "# check to make sure the data looks right\n",
    "x_train.shape\n",
    "x_test.shape"
   ]
  },
  {
   "cell_type": "code",
   "execution_count": 3,
   "id": "fe28de98-e188-4b25-a329-fe3b1182e334",
   "metadata": {},
   "outputs": [],
   "source": [
    "# build grid search for lasso regression \n",
    "alpha_values = np.logspace(-4, 1, 15) # 15 numbers between -4 and 4 range, decreasing the range from ridge\n",
    "\n",
    "# set the alpha values to a list\n",
    "lasso_param_grid = {'alpha': alpha_values}\n",
    "\n",
    "# Now set up ridge model\n",
    "lasso = Lasso(max_iter=5000)\n",
    "\n",
    "# lastly, build inital grid search model\n",
    "lasso_grid_search = GridSearchCV(estimator=lasso, param_grid=lasso_param_grid, cv=5, scoring='neg_mean_squared_error', verbose = 1)"
   ]
  },
  {
   "cell_type": "code",
   "execution_count": null,
   "id": "e04f5638-4635-4915-915e-fb2a674c294a",
   "metadata": {},
   "outputs": [
    {
     "name": "stdout",
     "output_type": "stream",
     "text": [
      "Fitting 5 folds for each of 15 candidates, totalling 75 fits\n"
     ]
    }
   ],
   "source": [
    "# fit the final model\n",
    "lasso_grid_search.fit(x_train, y_train)"
   ]
  },
  {
   "cell_type": "code",
   "execution_count": null,
   "id": "889a0b72-6f06-413a-916d-665c38bbd960",
   "metadata": {},
   "outputs": [],
   "source": [
    "# Plot values across the params\n",
    "plt.plot(alpha_values, -lasso_grid_search.cv_results_['mean_test_score'], marker='o')  # Negative MSE is stored\n",
    "plt.xscale('log')  # Log scale to better visualize the values across the large range of alpha\n",
    "plt.xlabel('Alpha values')\n",
    "plt.ylabel('Mean Test Score (Negative MSE)')\n",
    "plt.title('Learning Curve for Lasso Regression')\n",
    "plt.show()"
   ]
  },
  {
   "cell_type": "code",
   "execution_count": null,
   "id": "bd166d3b-b367-4140-99a5-824d4112648f",
   "metadata": {},
   "outputs": [],
   "source": []
  }
 ],
 "metadata": {
  "kernelspec": {
   "display_name": "Python 3 (ipykernel)",
   "language": "python",
   "name": "python3"
  },
  "language_info": {
   "codemirror_mode": {
    "name": "ipython",
    "version": 3
   },
   "file_extension": ".py",
   "mimetype": "text/x-python",
   "name": "python",
   "nbconvert_exporter": "python",
   "pygments_lexer": "ipython3",
   "version": "3.10.6"
  }
 },
 "nbformat": 4,
 "nbformat_minor": 5
}
